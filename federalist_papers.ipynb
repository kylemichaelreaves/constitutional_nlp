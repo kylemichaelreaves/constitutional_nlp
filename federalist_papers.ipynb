{
 "metadata": {
  "orig_nbformat": 2,
  "kernelspec": {
   "name": "python3",
   "display_name": "Python 3.9.6",
   "language": "python"
  },
  "interpreter": {
   "hash": "ac2eaa0ea0ebeafcc7822e65e46aa9d4f966f30b695406963e145ea4a91cd4fc"
  }
 },
 "nbformat": 4,
 "nbformat_minor": 2,
 "cells": [
  {
   "source": [
    "# Scraping the Federalist Papers from Yale's Website\n",
    "#### I couldn't find the Federalist Papers all in one place\n",
    "#### So I scraped them and put them in a pandas dataframe\n",
    "#### Brief demonstration of web scraping with BeautifulSoup\n",
    "#### I was planning on doing an EDA on the vocabulary of the three authors of the FP (Jay, Madison, Hamilton)\n",
    "#### but I moved on to other projects "
   ],
   "cell_type": "markdown",
   "metadata": {}
  },
  {
   "cell_type": "code",
   "execution_count": 1,
   "metadata": {},
   "outputs": [],
   "source": [
    "import requests\n",
    "import pandas as pd\n",
    "import string\n",
    "import re \n",
    "import nltk\n",
    "import itertools\n",
    "from nltk.corpus import stopwords\n",
    "from bs4 import BeautifulSoup\n",
    "from string import punctuation, digits\n",
    "\n",
    "from federalist_methods import *"
   ]
  },
  {
   "cell_type": "code",
   "execution_count": 2,
   "metadata": {},
   "outputs": [
    {
     "output_type": "stream",
     "name": "stdout",
     "text": [
      "CPU times: user 1.72 s, sys: 125 ms, total: 1.84 s\nWall time: 11.7 s\n"
     ]
    }
   ],
   "source": [
    "%%time \n",
    "url = 'https://avalon.law.yale.edu/18th_century/'\n",
    "\n",
    "# accounting for inconsistent URLs on Yale's server\n",
    "# I set up a for loop to gather each paper, each paper had its own URL\n",
    "one_through_nine = [url+'fed0{0}.asp'.format(i) for i in range(1, 10)]\n",
    "ten_through_eightysix = [url+'fed{0}.asp'.format(i) for i in range(10, 86)]\n",
    "urls = one_through_nine + ten_through_eightysix\n",
    "\n",
    "page_requests = [requests.get(url) for url in urls]\n",
    "soups = [BeautifulSoup(page.text, 'html.parser') for page in page_requests]"
   ]
  },
  {
   "cell_type": "code",
   "execution_count": 5,
   "metadata": {},
   "outputs": [],
   "source": [
    "paper_total = [return_paper(i) for i in range(0, len(soups))]\n",
    "author_total = [return_author(i) for i in range(0, len(soups))]\n",
    "title_total = [return_title(i) for i in range(0, len(soups))]\n",
    "cleaned_paper_total = [clean_paper(i) for i in range(0, len(soups))]\n",
    "\n",
    "paper_s = pd.Series(paper_total)\n",
    "author_s = pd.Series(author_total)\n",
    "title_s = pd.Series(title_total)"
   ]
  },
  {
   "cell_type": "code",
   "execution_count": 6,
   "metadata": {},
   "outputs": [],
   "source": [
    "cleaned_author = [re.sub('\\r\\n', '', item.strip()) for item in author_total]\n",
    "cleaned2x_author = [re.sub('For the Independent Journal.', 'JAY', item.strip()) for item in cleaned_author]\n",
    "flat_title_list = [title[0] for title in title_total]\n",
    "cleaned_flat_title_list = [re.sub('The Federalist Papers : ', '', item) for item in flat_title_list]"
   ]
  },
  {
   "cell_type": "code",
   "execution_count": 7,
   "metadata": {},
   "outputs": [],
   "source": [
    "federalist_df = pd.DataFrame(cleaned_paper_total, index=[cleaned2x_author, cleaned_flat_title_list])"
   ]
  },
  {
   "cell_type": "code",
   "execution_count": 8,
   "metadata": {},
   "outputs": [
    {
     "output_type": "execute_result",
     "data": {
      "text/plain": [
       "                                                               0    \\\n",
       "HAMILTON No. 1              to the people of the state of new york   \n",
       "JAY      No. 2              to the people of the state of new york   \n",
       "         No. 3              to the people of the state of new york   \n",
       "         No. 4              to the people of the state of new york   \n",
       "         No. 5   it was remarked in the preceding paper that we...   \n",
       "...                                                            ...   \n",
       "HAMILTON No. 81             to the people of the state of new york   \n",
       "         No. 82             to the people of the state of new york   \n",
       "         No. 83             to the people of the state of new york   \n",
       "         No. 84             to the people of the state of new york   \n",
       "         No. 85             to the people of the state of new york   \n",
       "\n",
       "                                                               1    \\\n",
       "HAMILTON No. 1   it is not however my design to dwell upon obse...   \n",
       "JAY      No. 2   when the people of america reflect that they a...   \n",
       "         No. 3   it is not a new observation that the people of...   \n",
       "         No. 4   it is too true however disgraceful it may be t...   \n",
       "         No. 5   this subject is copious and cannot easily be e...   \n",
       "...                                                            ...   \n",
       "HAMILTON No. 81  that there ought to be one court of supreme an...   \n",
       "         No. 82  the erection of a new government whatever care...   \n",
       "         No. 83  the objection to the plan of the convention wh...   \n",
       "         No. 84  in the course of the foregoing review of the c...   \n",
       "         No. 85  according to the formal division of the subjec...   \n",
       "\n",
       "                                                               2    \\\n",
       "HAMILTON No. 1   i am well aware that it would be disingenuous ...   \n",
       "JAY      No. 2   nothing is more certain than the indispensable...   \n",
       "         No. 3   that consideration naturally tends to create g...   \n",
       "         No. 4   these and a variety of other motives which aff...   \n",
       "         No. 5   the history of great britain is the one with w...   \n",
       "...                                                            ...   \n",
       "HAMILTON No. 81  the reasons for it have been assigned in anoth...   \n",
       "         No. 82  t is time only that can mature and perfect so ...   \n",
       "         No. 83  the disingenuous form in which this objection ...   \n",
       "         No. 84  there however remain a few which either did no...   \n",
       "         No. 85  but these heads have been so fully anticipated...   \n",
       "\n",
       "                                                               3    \\\n",
       "HAMILTON No. 1   candor will oblige us to admit that even such ...   \n",
       "JAY      No. 2   it is well worthy of consideration therefore w...   \n",
       "         No. 3   the more attentively i consider and investigat...   \n",
       "         No. 4   but independent of these inducements to war wh...   \n",
       "         No. 5   we may profit by their experience without payi...   \n",
       "...                                                            ...   \n",
       "HAMILTON No. 81  the only question that seems to have been rais...   \n",
       "         No. 82  such questions accordingly have arisen upon th...   \n",
       "         No. 83  the mere silence of the constitution in regard...   \n",
       "         No. 84  these shall now be discussed but as the subjec...   \n",
       "         No. 85  it is remarkable that the resemblance of the p...   \n",
       "\n",
       "                                                               4    \\\n",
       "HAMILTON No. 1   so numerous indeed and so powerful are the cau...   \n",
       "JAY      No. 2   it has until lately been a received and uncont...   \n",
       "         No. 3   it is of high importance to the peace of ameri...   \n",
       "         No. 4   with france and with britain we are rivals in ...   \n",
       "         No. 5   although it seems obvious to common sense that...   \n",
       "...                                                            ...   \n",
       "HAMILTON No. 81  the same contradiction is observable in regard...   \n",
       "         No. 82  the principal of these respect the situation o...   \n",
       "         No. 83  to argue with respect to the latter would howe...   \n",
       "         No. 84  the most considerable of the remaining objecti...   \n",
       "         No. 85  among the pretended defects are the reeligibil...   \n",
       "\n",
       "                                                               5    \\\n",
       "HAMILTON No. 1   this circumstance if duly attended to would fu...   \n",
       "JAY      No. 2   but politicians now appear who insist that thi...   \n",
       "         No. 3   because the prospect of present loss or advant...   \n",
       "         No. 4   with them and with most other european nations...   \n",
       "         No. 5   notwithstanding their true interest with respe...   \n",
       "...                                                            ...   \n",
       "HAMILTON No. 81  the very men who object to the senate as a cou...   \n",
       "         No. 82  is this to be exclusive or are those courts to...   \n",
       "         No. 83  with regard to civil causes subtleties almost ...   \n",
       "         No. 84  among other answers given to this it has been ...   \n",
       "         No. 85  these and several others which have been noted...   \n",
       "\n",
       "                                                               6    \\\n",
       "HAMILTON No. 1   and a further reason for caution in this respe...   \n",
       "JAY      No. 2   however extraordinary this new doctrine may ap...   \n",
       "         No. 3   the case of the treaty of peace with britain a...   \n",
       "         No. 4   in the trade to china and india we interfere w...   \n",
       "         No. 5   the most sanguine advocates for three or four ...   \n",
       "...                                                            ...   \n",
       "HAMILTON No. 81  the arguments or rather suggestions upon which...   \n",
       "         No. 82  if the latter in what relation will they stand...   \n",
       "         No. 83  every man of discernment must at once perceive...   \n",
       "         No. 84               i add that new york is of the number   \n",
       "         No. 85  nor indeed can there be a better proof of the ...   \n",
       "\n",
       "                                                               7    \\\n",
       "HAMILTON No. 1   ambition avarice personal animosity party oppo...   \n",
       "JAY      No. 2   whatever may be the arguments or inducements w...   \n",
       "         No. 3   because even if the governing party in a state...   \n",
       "         No. 4   the extension of our own commerce in our own v...   \n",
       "         No. 5   independent of those local circumstances which...   \n",
       "...                                                            ...   \n",
       "HAMILTON No. 81  the power of construing the laws according to ...   \n",
       "         No. 82  these are inquiries which we meet with in the ...   \n",
       "         No. 83  but as the inventors of this fallacy have atte...   \n",
       "         No. 84  and yet the opposers of the new system in this...   \n",
       "         No. 85  the additional securities to republican govern...   \n",
       "\n",
       "                                                               8    \\\n",
       "HAMILTON No. 1   were there not even these inducements to moder...   \n",
       "JAY      No. 2   it has often given me pleasure to observe that...   \n",
       "         No. 3   but the national government not being affected...   \n",
       "         No. 4   spain thinks it convenient to shut the mississ...   \n",
       "         No. 5   for it cannot be presumed that the same degree...   \n",
       "...                                                            ...   \n",
       "HAMILTON No. 81        this is as unprecedented as it is dangerous   \n",
       "         No. 82  the only thing in the proposed constitution wh...   \n",
       "         No. 83  the maxims on which they rely are of this natu...   \n",
       "         No. 84  to justify their zeal in this matter they alle...   \n",
       "         No. 85  thus have i fellowcitizens executed the task i...   \n",
       "\n",
       "                                                               9    ...   158  \\\n",
       "HAMILTON No. 1   for in politics as in religion it is equally a...  ...  None   \n",
       "JAY      No. 2   providence has in a particular manner blessed ...  ...  None   \n",
       "         No. 3   as to those just causes of war which proceed f...  ...  None   \n",
       "         No. 4   from these and such like considerations which ...  ...  None   \n",
       "         No. 5   whenever and from whatever causes it might hap...  ...  None   \n",
       "...                                                            ...  ...   ...   \n",
       "HAMILTON No. 81  in britain the judical power in the last resor...  ...  None   \n",
       "         No. 82  this might either be construed to signify that...  ...  None   \n",
       "         No. 83  hence say they as the constitution has establi...  ...  None   \n",
       "         No. 84  to the first i answer that the constitution pr...  ...  None   \n",
       "         No. 85  i trust at least you will admit that i have no...  ...  None   \n",
       "\n",
       "                  159   160   161   162   163   164   165   166   167  \n",
       "HAMILTON No. 1   None  None  None  None  None  None  None  None  None  \n",
       "JAY      No. 2   None  None  None  None  None  None  None  None  None  \n",
       "         No. 3   None  None  None  None  None  None  None  None  None  \n",
       "         No. 4   None  None  None  None  None  None  None  None  None  \n",
       "         No. 5   None  None  None  None  None  None  None  None  None  \n",
       "...               ...   ...   ...   ...   ...   ...   ...   ...   ...  \n",
       "HAMILTON No. 81  None  None  None  None  None  None  None  None  None  \n",
       "         No. 82  None  None  None  None  None  None  None  None  None  \n",
       "         No. 83  None  None  None  None  None  None  None  None  None  \n",
       "         No. 84  None  None  None  None  None  None  None  None  None  \n",
       "         No. 85  None  None  None  None  None  None  None  None  None  \n",
       "\n",
       "[85 rows x 168 columns]"
      ],
      "text/html": "<div>\n<style scoped>\n    .dataframe tbody tr th:only-of-type {\n        vertical-align: middle;\n    }\n\n    .dataframe tbody tr th {\n        vertical-align: top;\n    }\n\n    .dataframe thead th {\n        text-align: right;\n    }\n</style>\n<table border=\"1\" class=\"dataframe\">\n  <thead>\n    <tr style=\"text-align: right;\">\n      <th></th>\n      <th></th>\n      <th>0</th>\n      <th>1</th>\n      <th>2</th>\n      <th>3</th>\n      <th>4</th>\n      <th>5</th>\n      <th>6</th>\n      <th>7</th>\n      <th>8</th>\n      <th>9</th>\n      <th>...</th>\n      <th>158</th>\n      <th>159</th>\n      <th>160</th>\n      <th>161</th>\n      <th>162</th>\n      <th>163</th>\n      <th>164</th>\n      <th>165</th>\n      <th>166</th>\n      <th>167</th>\n    </tr>\n  </thead>\n  <tbody>\n    <tr>\n      <th>HAMILTON</th>\n      <th>No. 1</th>\n      <td>to the people of the state of new york</td>\n      <td>it is not however my design to dwell upon obse...</td>\n      <td>i am well aware that it would be disingenuous ...</td>\n      <td>candor will oblige us to admit that even such ...</td>\n      <td>so numerous indeed and so powerful are the cau...</td>\n      <td>this circumstance if duly attended to would fu...</td>\n      <td>and a further reason for caution in this respe...</td>\n      <td>ambition avarice personal animosity party oppo...</td>\n      <td>were there not even these inducements to moder...</td>\n      <td>for in politics as in religion it is equally a...</td>\n      <td>...</td>\n      <td>None</td>\n      <td>None</td>\n      <td>None</td>\n      <td>None</td>\n      <td>None</td>\n      <td>None</td>\n      <td>None</td>\n      <td>None</td>\n      <td>None</td>\n      <td>None</td>\n    </tr>\n    <tr>\n      <th rowspan=\"4\" valign=\"top\">JAY</th>\n      <th>No. 2</th>\n      <td>to the people of the state of new york</td>\n      <td>when the people of america reflect that they a...</td>\n      <td>nothing is more certain than the indispensable...</td>\n      <td>it is well worthy of consideration therefore w...</td>\n      <td>it has until lately been a received and uncont...</td>\n      <td>but politicians now appear who insist that thi...</td>\n      <td>however extraordinary this new doctrine may ap...</td>\n      <td>whatever may be the arguments or inducements w...</td>\n      <td>it has often given me pleasure to observe that...</td>\n      <td>providence has in a particular manner blessed ...</td>\n      <td>...</td>\n      <td>None</td>\n      <td>None</td>\n      <td>None</td>\n      <td>None</td>\n      <td>None</td>\n      <td>None</td>\n      <td>None</td>\n      <td>None</td>\n      <td>None</td>\n      <td>None</td>\n    </tr>\n    <tr>\n      <th>No. 3</th>\n      <td>to the people of the state of new york</td>\n      <td>it is not a new observation that the people of...</td>\n      <td>that consideration naturally tends to create g...</td>\n      <td>the more attentively i consider and investigat...</td>\n      <td>it is of high importance to the peace of ameri...</td>\n      <td>because the prospect of present loss or advant...</td>\n      <td>the case of the treaty of peace with britain a...</td>\n      <td>because even if the governing party in a state...</td>\n      <td>but the national government not being affected...</td>\n      <td>as to those just causes of war which proceed f...</td>\n      <td>...</td>\n      <td>None</td>\n      <td>None</td>\n      <td>None</td>\n      <td>None</td>\n      <td>None</td>\n      <td>None</td>\n      <td>None</td>\n      <td>None</td>\n      <td>None</td>\n      <td>None</td>\n    </tr>\n    <tr>\n      <th>No. 4</th>\n      <td>to the people of the state of new york</td>\n      <td>it is too true however disgraceful it may be t...</td>\n      <td>these and a variety of other motives which aff...</td>\n      <td>but independent of these inducements to war wh...</td>\n      <td>with france and with britain we are rivals in ...</td>\n      <td>with them and with most other european nations...</td>\n      <td>in the trade to china and india we interfere w...</td>\n      <td>the extension of our own commerce in our own v...</td>\n      <td>spain thinks it convenient to shut the mississ...</td>\n      <td>from these and such like considerations which ...</td>\n      <td>...</td>\n      <td>None</td>\n      <td>None</td>\n      <td>None</td>\n      <td>None</td>\n      <td>None</td>\n      <td>None</td>\n      <td>None</td>\n      <td>None</td>\n      <td>None</td>\n      <td>None</td>\n    </tr>\n    <tr>\n      <th>No. 5</th>\n      <td>it was remarked in the preceding paper that we...</td>\n      <td>this subject is copious and cannot easily be e...</td>\n      <td>the history of great britain is the one with w...</td>\n      <td>we may profit by their experience without payi...</td>\n      <td>although it seems obvious to common sense that...</td>\n      <td>notwithstanding their true interest with respe...</td>\n      <td>the most sanguine advocates for three or four ...</td>\n      <td>independent of those local circumstances which...</td>\n      <td>for it cannot be presumed that the same degree...</td>\n      <td>whenever and from whatever causes it might hap...</td>\n      <td>...</td>\n      <td>None</td>\n      <td>None</td>\n      <td>None</td>\n      <td>None</td>\n      <td>None</td>\n      <td>None</td>\n      <td>None</td>\n      <td>None</td>\n      <td>None</td>\n      <td>None</td>\n    </tr>\n    <tr>\n      <th>...</th>\n      <th>...</th>\n      <td>...</td>\n      <td>...</td>\n      <td>...</td>\n      <td>...</td>\n      <td>...</td>\n      <td>...</td>\n      <td>...</td>\n      <td>...</td>\n      <td>...</td>\n      <td>...</td>\n      <td>...</td>\n      <td>...</td>\n      <td>...</td>\n      <td>...</td>\n      <td>...</td>\n      <td>...</td>\n      <td>...</td>\n      <td>...</td>\n      <td>...</td>\n      <td>...</td>\n      <td>...</td>\n    </tr>\n    <tr>\n      <th rowspan=\"5\" valign=\"top\">HAMILTON</th>\n      <th>No. 81</th>\n      <td>to the people of the state of new york</td>\n      <td>that there ought to be one court of supreme an...</td>\n      <td>the reasons for it have been assigned in anoth...</td>\n      <td>the only question that seems to have been rais...</td>\n      <td>the same contradiction is observable in regard...</td>\n      <td>the very men who object to the senate as a cou...</td>\n      <td>the arguments or rather suggestions upon which...</td>\n      <td>the power of construing the laws according to ...</td>\n      <td>this is as unprecedented as it is dangerous</td>\n      <td>in britain the judical power in the last resor...</td>\n      <td>...</td>\n      <td>None</td>\n      <td>None</td>\n      <td>None</td>\n      <td>None</td>\n      <td>None</td>\n      <td>None</td>\n      <td>None</td>\n      <td>None</td>\n      <td>None</td>\n      <td>None</td>\n    </tr>\n    <tr>\n      <th>No. 82</th>\n      <td>to the people of the state of new york</td>\n      <td>the erection of a new government whatever care...</td>\n      <td>t is time only that can mature and perfect so ...</td>\n      <td>such questions accordingly have arisen upon th...</td>\n      <td>the principal of these respect the situation o...</td>\n      <td>is this to be exclusive or are those courts to...</td>\n      <td>if the latter in what relation will they stand...</td>\n      <td>these are inquiries which we meet with in the ...</td>\n      <td>the only thing in the proposed constitution wh...</td>\n      <td>this might either be construed to signify that...</td>\n      <td>...</td>\n      <td>None</td>\n      <td>None</td>\n      <td>None</td>\n      <td>None</td>\n      <td>None</td>\n      <td>None</td>\n      <td>None</td>\n      <td>None</td>\n      <td>None</td>\n      <td>None</td>\n    </tr>\n    <tr>\n      <th>No. 83</th>\n      <td>to the people of the state of new york</td>\n      <td>the objection to the plan of the convention wh...</td>\n      <td>the disingenuous form in which this objection ...</td>\n      <td>the mere silence of the constitution in regard...</td>\n      <td>to argue with respect to the latter would howe...</td>\n      <td>with regard to civil causes subtleties almost ...</td>\n      <td>every man of discernment must at once perceive...</td>\n      <td>but as the inventors of this fallacy have atte...</td>\n      <td>the maxims on which they rely are of this natu...</td>\n      <td>hence say they as the constitution has establi...</td>\n      <td>...</td>\n      <td>None</td>\n      <td>None</td>\n      <td>None</td>\n      <td>None</td>\n      <td>None</td>\n      <td>None</td>\n      <td>None</td>\n      <td>None</td>\n      <td>None</td>\n      <td>None</td>\n    </tr>\n    <tr>\n      <th>No. 84</th>\n      <td>to the people of the state of new york</td>\n      <td>in the course of the foregoing review of the c...</td>\n      <td>there however remain a few which either did no...</td>\n      <td>these shall now be discussed but as the subjec...</td>\n      <td>the most considerable of the remaining objecti...</td>\n      <td>among other answers given to this it has been ...</td>\n      <td>i add that new york is of the number</td>\n      <td>and yet the opposers of the new system in this...</td>\n      <td>to justify their zeal in this matter they alle...</td>\n      <td>to the first i answer that the constitution pr...</td>\n      <td>...</td>\n      <td>None</td>\n      <td>None</td>\n      <td>None</td>\n      <td>None</td>\n      <td>None</td>\n      <td>None</td>\n      <td>None</td>\n      <td>None</td>\n      <td>None</td>\n      <td>None</td>\n    </tr>\n    <tr>\n      <th>No. 85</th>\n      <td>to the people of the state of new york</td>\n      <td>according to the formal division of the subjec...</td>\n      <td>but these heads have been so fully anticipated...</td>\n      <td>it is remarkable that the resemblance of the p...</td>\n      <td>among the pretended defects are the reeligibil...</td>\n      <td>these and several others which have been noted...</td>\n      <td>nor indeed can there be a better proof of the ...</td>\n      <td>the additional securities to republican govern...</td>\n      <td>thus have i fellowcitizens executed the task i...</td>\n      <td>i trust at least you will admit that i have no...</td>\n      <td>...</td>\n      <td>None</td>\n      <td>None</td>\n      <td>None</td>\n      <td>None</td>\n      <td>None</td>\n      <td>None</td>\n      <td>None</td>\n      <td>None</td>\n      <td>None</td>\n      <td>None</td>\n    </tr>\n  </tbody>\n</table>\n<p>85 rows × 168 columns</p>\n</div>"
     },
     "metadata": {},
     "execution_count": 8
    }
   ],
   "source": [
    "federalist_df"
   ]
  },
  {
   "cell_type": "code",
   "execution_count": 8,
   "metadata": {},
   "outputs": [],
   "source": [
    "joined_papers = []\n",
    "for i in range(0, len(soups)):\n",
    "    joined_papers.append([' '.join(item) for item in pd.Series(paper_total)[i]])"
   ]
  },
  {
   "cell_type": "code",
   "execution_count": 9,
   "metadata": {},
   "outputs": [],
   "source": [
    "# a flatter dataframe \n",
    "df = pd.DataFrame(pd.Series(paper_total).explode())\n",
    "df.reset_index(inplace=True)"
   ]
  },
  {
   "cell_type": "code",
   "execution_count": 12,
   "metadata": {},
   "outputs": [
    {
     "output_type": "execute_result",
     "data": {
      "text/plain": [
       "      index                                                  0\n",
       "0         0          [to the people of the state of new york:]\n",
       "1         0  [it is not, however, my design to dwell upon o...\n",
       "2         0  [and yet, however just these sentiments will b...\n",
       "3         0  [i propose, in a series of papers, to discuss ...\n",
       "4         0  [in the progress of this discussion i shall en...\n",
       "...     ...                                                ...\n",
       "1115     84  [this is not all., every constitution for the ...\n",
       "1116     84  [but every amendment to the constitution, if o...\n",
       "1117     84  [in opposition to the probability of subsequen...\n",
       "1118     84  [if the foregoing argument is a fallacy, certa...\n",
       "1119     84                                         [publius.]\n",
       "\n",
       "[1120 rows x 2 columns]"
      ],
      "text/html": "<div>\n<style scoped>\n    .dataframe tbody tr th:only-of-type {\n        vertical-align: middle;\n    }\n\n    .dataframe tbody tr th {\n        vertical-align: top;\n    }\n\n    .dataframe thead th {\n        text-align: right;\n    }\n</style>\n<table border=\"1\" class=\"dataframe\">\n  <thead>\n    <tr style=\"text-align: right;\">\n      <th></th>\n      <th>index</th>\n      <th>0</th>\n    </tr>\n  </thead>\n  <tbody>\n    <tr>\n      <th>0</th>\n      <td>0</td>\n      <td>[to the people of the state of new york:]</td>\n    </tr>\n    <tr>\n      <th>1</th>\n      <td>0</td>\n      <td>[it is not, however, my design to dwell upon o...</td>\n    </tr>\n    <tr>\n      <th>2</th>\n      <td>0</td>\n      <td>[and yet, however just these sentiments will b...</td>\n    </tr>\n    <tr>\n      <th>3</th>\n      <td>0</td>\n      <td>[i propose, in a series of papers, to discuss ...</td>\n    </tr>\n    <tr>\n      <th>4</th>\n      <td>0</td>\n      <td>[in the progress of this discussion i shall en...</td>\n    </tr>\n    <tr>\n      <th>...</th>\n      <td>...</td>\n      <td>...</td>\n    </tr>\n    <tr>\n      <th>1115</th>\n      <td>84</td>\n      <td>[this is not all., every constitution for the ...</td>\n    </tr>\n    <tr>\n      <th>1116</th>\n      <td>84</td>\n      <td>[but every amendment to the constitution, if o...</td>\n    </tr>\n    <tr>\n      <th>1117</th>\n      <td>84</td>\n      <td>[in opposition to the probability of subsequen...</td>\n    </tr>\n    <tr>\n      <th>1118</th>\n      <td>84</td>\n      <td>[if the foregoing argument is a fallacy, certa...</td>\n    </tr>\n    <tr>\n      <th>1119</th>\n      <td>84</td>\n      <td>[publius.]</td>\n    </tr>\n  </tbody>\n</table>\n<p>1120 rows × 2 columns</p>\n</div>"
     },
     "metadata": {},
     "execution_count": 12
    }
   ],
   "source": [
    "df"
   ]
  }
 ]
}