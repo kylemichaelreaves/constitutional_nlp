{
 "cells": [
  {
   "cell_type": "code",
   "execution_count": 5,
   "metadata": {},
   "outputs": [],
   "source": [
    "import re\n",
    "from nltk import *\n",
    "from bs4 import BeautifulSoup\n",
    "import string\n",
    "import requests"
   ]
  },
  {
   "cell_type": "code",
   "execution_count": 6,
   "metadata": {},
   "outputs": [],
   "source": [
    "# We can't assume that the dissent is always an accurately tagged class as a \"dissent\"\n",
    "# For example, Scalia wrote Lawrence's dissent in which Roberts and Thomas joined…\n",
    "# …Cornell's website makes it seem like Scalia wrote an opinion\n",
    "lawrence = 'https://www.law.cornell.edu/supremecourt/text/02-102#writing-ZS'\n",
    "r = requests.get(lawrence).text\n",
    "soup = BeautifulSoup(r, 'html.parser')"
   ]
  },
  {
   "cell_type": "code",
   "execution_count": 7,
   "metadata": {},
   "outputs": [],
   "source": [
    "# facts\n",
    "def get_text(url):\n",
    "    text = soup.find(class_='bodytext')\n",
    "    text = [t.text for t in text]\n",
    "    return text\n",
    "\n",
    "def get_opinion(url):\n",
    "    text = soup.find(class_='opinion')\n",
    "    text = [t.text for t in text]\n",
    "    return text\n",
    "\n",
    "def get_dissent(url):\n",
    "    text = soup.find(class_='dissent')\n",
    "    text = [t.text for t in text]\n",
    "    return text\n",
    "\n",
    "def clean(text):\n",
    "    text = [txt.encode(\"ascii\", \"ignore\").decode(\"ascii\") for txt in text]\n",
    "    # remove unicode characters\n",
    "    # lower each string\n",
    "    text = [txt.lower() for txt in text]\n",
    "    # remove new line escape character\n",
    "    text = [txt.replace('\\n', ' ') for txt in text]\n",
    "    # remove punctuation\n",
    "    text = [re.sub('[%s]' % re.escape(string.punctuation), ' ', txt)\n",
    "            for txt in text]\n",
    "    # remove digits\n",
    "    text = [re.sub('[%s]' % re.escape(string.digits), ' ', txt)\n",
    "            for txt in text]\n",
    "    # remove empty strings\n",
    "    text = [txt.strip() for txt in text if txt]\n",
    "    return text"
   ]
  },
  {
   "cell_type": "code",
   "execution_count": 21,
   "metadata": {},
   "outputs": [
    {
     "data": {
      "text/plain": [
       "['john geddes lawrence and tyron garner petitioners v  texason writ of certiorari to the court of appeals oftexas  fourteenth district june          justice thomas  dissenting',\n",
       " 'i join justice scalias dissenting opinion',\n",
       " 'i write separately to note that the law before the court today is  uncommonly silly   griswold v  connecticut      u s                   stewart  j   dissenting',\n",
       " 'if i were a member of the texas legislature  i would vote to repeal it',\n",
       " 'punishing someone for expressing his sexual preference through noncommercial consensual conduct with another adult does not appear to be a worthy way to expend valuable law enforcement resources',\n",
       " 'notwithstanding this  i recognize that as a member of this court i am not empowered to help petitioners and others similarly situated',\n",
       " 'my duty  rather  is to decide cases agreeably to the constitution and laws of the united states     id   at',\n",
       " 'and  just like justice stewart  i can find  neither in the bill of rights nor any other part of the constitution a  general right of privacy  ibid   or as the court terms it today  the liberty of the person both in its spatial and more transcendent dimensions  ante  at']"
      ]
     },
     "execution_count": 21,
     "metadata": {},
     "output_type": "execute_result"
    }
   ],
   "source": [
    "clean(sent_tokenize(get_dissent(lawrence)[6]))"
   ]
  },
  {
   "cell_type": "code",
   "execution_count": 20,
   "metadata": {},
   "outputs": [
    {
     "data": {
      "text/plain": [
       "['john geddes lawrence and tyron garner petitioners v  texas',\n",
       " 'on writ of certiorari to the court of appeals oftexas  fourteenth district',\n",
       " 'june',\n",
       " 'justice kennedy delivered the opinion of the court',\n",
       " 'liberty protects the person from unwarranted government intrusions into a dwelling or other private places   in our tradition the state is not omnipresent in the home   and there are other spheres of our lives and existence  outside the home  where the state should not be a dominant presence   freedom extends beyond spatial bounds   liberty presumes an autonomy of self that includes freedom of thought  belief  expression  and certain intimate conduct   the instant case involves liberty of the person both in its spatial and more transcendent dimensions',\n",
       " 'i',\n",
       " 'the question before the court is the validity of a texas statute making it a crime for two persons of the same sex to engage in certain intimate sexual conduct',\n",
       " 'in houston  texas  officers of the harris county police department were dispatched to a private residence in response to a reported weapons disturbance   they entered an apartment where one of the petitioners  john geddes lawrence  resided   the right of the police to enter does not seem to have been questioned   the officers observed lawrence and another man  tyron garner  engaging in a sexual act   the two petitioners were arrested  held in custody over night  and charged and convicted before a justice of the peace',\n",
       " 'the complaints described their crime as deviate sexual intercourse  namely anal sex  with a member of the same sex  man    app  to pet  for cert     a     a   the applicable state law is tex  penal code  ann        a           it provides  a person commits an offense if he engages in deviate sexual intercourse with another individual of the same sex   the statute defines  d eviate sexual intercourse as follows',\n",
       " 'a  any contact between any part of the genitals of one person and the mouth or anus of another person  or',\n",
       " 'b  the penetration of the genitals or the anus of another person with an object',\n",
       " 'the petitioners exercised their right to a trial de novo in harris county criminal court   they challenged the statute as a violation of the equal protection clause of the fourteenth amendment and of a like provision of the texas constitution   tex  const   art     a   those contentions were rejected   the petitioners  having entered a plea of nolo contendere  were each fined      and assessed court costs of           app  to pet  for cert     a   a',\n",
       " 'the court of appeals for the texas fourteenth district considered the petitioners federal constitutional arguments under both the equal protection and due process clauses of the fourteenth amendment   after hearing the case en banc the court  in a divided opinion  rejected the constitutional arguments and affirmed the convictions      s w   d      tex  app          the majority opinion indicates that the court of appeals considered our decision in bowers v  hardwick      u s              to be controlling on the federal due process aspect of the case   bowers then being authoritative  this was proper',\n",
       " 'we granted certiorari      u s               to consider three questions',\n",
       " 'whether petitioners criminal convictions under the texas homosexual conduct lawwhich criminalizes sexual intimacy by same sex couples  but not identical behavior by different sex couplesviolate the fourteenth amendment guarantee of equal protection of laws',\n",
       " 'whether petitioners criminal convictions for adult consensual sexual intimacy in the home violate their vital interests in liberty and privacy protected by the due process clause of the fourteenth amendment',\n",
       " 'whether bowers v  hardwick      u s              should be overruled   pet  for cert  i',\n",
       " 'the petitioners were adults at the time of the alleged offense   their conduct was in private and consensual',\n",
       " 'ii',\n",
       " 'we conclude the case should be resolved by determining whether the petitioners were free as adults to engage in the private conduct in the exercise of their liberty under the due process clause of the fourteenth amendment to the constitution   for this inquiry we deem it necessary to reconsider the courts holding in bowers',\n",
       " 'there are broad statements of the substantive reach of liberty under the due process clause in earlier cases  including pierce v  society of sisters      u s              and meyer v  nebraska      u s              but the most pertinent beginning point is our decision in griswold v  connecticut      u s',\n",
       " 'in griswold the court invalidated a state law prohibiting the use of drugs or devices of contraception and counseling or aiding and abetting the use of contraceptives   the court described the protected interest as a right to privacy and placed emphasis on the marriage relation and the protected space of the marital bedroom   id   at',\n",
       " 'after griswold it was established that the right to make certain decisions regarding sexual conduct extends beyond the marital relationship   in eisenstadt v  baird      u s              the court invalidated a law prohibiting the distribution of contraceptives to unmarried persons   the case was decided under the equal protection clause  id   at      but with respect to unmarried persons  the court went on to state the fundamental proposition that the law impaired the exercise of their personal rights  ibid   it quoted from the statement of the court of appeals finding the law to be in conflict with fundamental human rights  and it followed with this statement of its own',\n",
       " 'it is true that in griswold the right of privacy in question inhered in the marital relationship if the right of privacy means anything  it is the right of the individual  married or single  to be free from unwarranted governmental intrusion into matters so fundamentally affecting a person as the decision whether to bear or beget a child   id   at',\n",
       " 'the opinions in griswold and eisenstadt were part of the background for the decision in roe v  wade      u s               as is well known  the case involved a challenge to the texas law prohibiting abortions  but the laws of other states were affected as well   although the court held the womans rights were not absolute  her right to elect an abortion did have real and substantial protection as an exercise of her liberty under the due process clause   the court cited cases that protect spatial freedom and cases that go well beyond it   roe recognized the right of a woman to make certain fundamental decisions affecting her destiny and confirmed once more that the protection of liberty under the due process clause has a substantive dimension of fundamental significance in defining the rights of the person',\n",
       " 'in carey v  population services intl      u s              the court confronted a new york law forbidding sale or distribution of contraceptive devices to persons under    years of age   although there was no single opinion for the court  the law was invalidated   both eisenstadt and carey  as well as the holding and rationale in roe  confirmed that the reasoning of griswold could not be confined to the protection of rights of married adults   this was the state of the law with respect to some of the most relevant cases when the court considered bowers v  hardwick',\n",
       " 'the facts in bowers had some similarities to the instant case   a police officer  whose right to enter seems not to have been in question  observed hardwick  in his own bedroom  engaging in intimate sexual conduct with another adult male   the conduct was in violation of a georgia statute making it a criminal offense to engage in sodomy   one difference between the two cases is that the georgia statute prohibited the conduct whether or not the participants were of the same sex  while the texas statute  as we have seen  applies only to participants of the same sex   hardwick was not prosecuted  but he brought an action in federal court to declare the state statute invalid   he alleged he was a practicing homosexual and that the criminal prohibition violated rights guaranteed to him by the constitution   the court  in an opinion by justice white  sustained the georgia law   chief justice burger and justice powell joined the opinion of the court and filed separate  concurring opinions   four justices dissented       u s   at      opinion of blackmun  j   joined by brennan  marshall  and stevens  jj    id   at      opinion of stevens  j   joined by brennan and marshall  jj',\n",
       " 'the court began its substantive discussion in bowers as follows  the issue presented is whether the federal constitution confers a fundamental right upon homosexuals to engage in sodomy and hence invalidates the laws of the many states that still make such conduct illegal and have done so for a very long time   id   at       that statement  we now conclude  discloses the courts own failure to appreciate the extent of the liberty at stake   to say that the issue in bowers was simply the right to engage in certain sexual conduct demeans the claim the individual put forward  just as it would demean a married couple were it to be said marriage is simply about the right to have sexual intercourse   the laws involved in bowers and here are  to be sure  statutes that purport to do no more than prohibit a particular sexual act   their penalties and purposes  though  have more far reaching consequences  touching upon the most private human conduct  sexual behavior  and in the most private of places  the home   the statutes do seek to control a personal relationship that  whether or not entitled to formal recognition in the law  is within the liberty of persons to choose without being punished as criminals',\n",
       " 'this  as a general rule  should counsel against attempts by the state  or a court  to define the meaning of the relationship or to set its boundaries absent injury to a person or abuse of an institution the law protects   it suffices for us to acknowledge that adults may choose to enter upon this relationship in the confines of their homes and their own private lives and still retain their dignity as free persons   when sexuality finds overt expression in intimate conduct with another person  the conduct can be but one element in a personal bond that is more enduring   the liberty protected by the constitution allows homosexual persons the right to make this choice',\n",
       " 'having misapprehended the claim of liberty there presented to it  and thus stating the claim to be whether there is a fundamental right to engage in consensual sodomy  the bowers court said  proscriptions against that conduct have ancient roots   id   at       in academic writings  and in many of the scholarly amicus briefs filed to assist the court in this case  there are fundamental criticisms of the historical premises relied upon by the majority and concurring opinions in bowers   brief for cato institute as amicus curiae       brief for american civil liberties union etal  as amici curiae       brief for professors of history etal  as amici curiae       we need not enter this debate in the attempt to reach a definitive historical judgment  but the following considerations counsel against adopting the definitive conclusions upon which bowers placed such reliance',\n",
       " 'at the outset it should be noted that there is no longstanding history in this country of laws directed at homosexual conduct as a distinct matter   beginning in colonial times there were prohibitions of sodomy derived from the english criminal laws passed in the first instance by the reformation parliament of        the english prohibition was understood to include relations between men and women as well as relations between men and men   see  e g   king v  wiseman     eng  rep            k b         interpreting mankind in act of      as including women and girls    nineteenth century commentators similarly read american sodomy  buggery  and crime against nature statutes as criminalizing certain relations between men and women and between men and men   see  e g     j  bishop  criminal law                j  chitty  criminal law        th am  ed         r  desty  a compendium of american criminal law            j  may  the law of crimes       d ed          the absence of legal prohibitions focusing on homosexual conduct may be explained in part by noting that according to some scholars the concept of the homosexual as a distinct category of person did not emerge until the late   th century   see  e g   j  katz  the invention of heterosexuality           j  demilio   e  freedman  intimate matters  a historyof sexualityin america       d ed           the modern terms homosexuality and heterosexuality do not apply to an era that had not yet articulated these distinctions    thus early american sodomy laws were not directed at homosexuals as such but instead sought to prohibit nonprocreative sexual activity more generally   this does not suggest approval of homosexual conduct   it does tend to show that this particular form of conduct was not thought of as a separate category from like conduct between heterosexual persons',\n",
       " 'laws prohibiting sodomy do not seem to have been enforced against consenting adults acting in private   a substantial number of sodomy prosecutions and convictions for which there are surviving records were for predatory acts against those who could not or did not consent  as in the case of a minor or the victim of an assault   as to these  one purpose for the prohibitions was to ensure there would be no lack of coverage if a predator committed a sexual assault that did not constitute rape as defined by the criminal law   thus the model sodomy indictments presented in a   th century treatise  see   chitty  supra  at     addressed the predatory acts of an adult man against a minor girl or minor boy   instead of targeting relations between consenting adults in private    th century sodomy prosecutions typically involved relations between men and minor girls or minor boys  relations between adults involving force  relations between adults implicating disparity in status  or relations between men and animals',\n",
       " 'to the extent that there were any prosecutions for the acts in question    th century evidence rules imposed a burden that would make a conviction more difficult to obtain even taking into account the problems always inherent in prosecuting consensual acts committed in private   under then prevailing standards  a man could not be convicted of sodomy based upon testimony of a consenting partner  because the partner was considered an accomplice   a partners testimony  however  was admissible if he or she had not consented to the act or was a minor  and therefore incapable of consent   see  e g   f  wharton  criminal law       d ed           f  wharton  criminal law       th ed          the rule may explain in part the infrequency of these prosecutions   in all events that infrequency makes it difficult to say that society approved of a rigorous and systematic punishment of the consensual acts committed in private and by adults  the longstanding criminal prohibition of homosexual sodomy upon which the bowers decision placed such reliance is as consistent with a general condemnation of nonprocreative sex as it is with an established tradition of prosecuting acts because of their homosexual character',\n",
       " 'the policy of punishing consenting adults for private acts was not much discussed in the early legal literature   we can infer that one reason for this was the very private nature of the conduct   despite the absence of prosecutions  there may have been periods in which there was public criticism of homosexuals as such and an insistence that the criminal laws be enforced to discourage their practices   but far from possessing ancient roots  bowers      u s   at      american laws targeting same sex couples did not develop until the last third of the   th century   the reported decisions concerning the prosecution of consensual  homosexual sodomy between adults for the years          are not always clear in the details  but a significant number involved conduct in a public place   see brief for american civil liberties union etal  as amici curiae       and n',\n",
       " 'it was not until the     s that any state singled out same sex relations for criminal prosecution  and only nine states have done so   see      ark  gen  acts no            kan  sess  laws p           ky  acts p           mo  laws p           mont  laws p            nev  stats  p            tenn  pub  acts ch           tex  gen  laws ch       see also post v  state      p  d       okla  crim  app         sodomy law invalidated as applied to different sex couples    post bowers even some of these states did not adhere to the policy of suppressing homosexual conduct   over the course of the last decades  states with same sex prohibitions have moved toward abolishing them   see  e g   jegley v  picado      ark          s w  d             gryczan v  state      mont           p  d             campbell v  sundquist      s w   d      tenn  app         commonwealth v  wasson      s w  d      ky         see also      nev  stats  p       repealing nev  rev  stat',\n",
       " 'in summary  the historical grounds relied upon in bowers are more complex than the majority opinion and the concurring opinion by chief justice burger indicate   their historical premises are not without doubt and  at the very least  are overstated',\n",
       " 'it must be acknowledged  of course  that the court in bowers was making the broader point that for centuries there have been powerful voices to condemn homosexual conduct as immoral   the condemnation has been shaped by religious beliefs  conceptions of right and acceptable behavior  and respect for the traditional family   for many persons these are not trivial concerns but profound and deep convictions accepted as ethical and moral principles to which they aspire and which thus determine the course of their lives   these considerations do not answer the question before us  however   the issue is whether the majority may use the power of the state to enforce these views on the whole society through operation of the criminal law   our obligation is to define the liberty of all  not to mandate our own moral code   planned parenthood of southeastern pa  v  casey      u s',\n",
       " 'chief justice burger joined the opinion for the court in bowers and further explained his views as follows  decisions of individuals relating to homosexual conduct have been subject to state intervention throughout the history of western civilization   condemnation of those practices is firmly rooted in judeao christian moral and ethical standards       u  s   at       as with justice whites assumptions about history  scholarship casts some doubt on the sweeping nature of the statement by chief justice burger as it pertains to private homosexual conduct between consenting adults   see  e g   eskridge  hardwick and historiography       u  ill  l rev             in all events we think that our laws and traditions in the past half century are of most relevance here   these references show an emerging awareness that liberty gives substantial protection to adult persons in deciding how to conduct their private lives in matters pertaining to sex    h istory and tradition are the starting point but not in all cases the ending point of the substantive due process inquiry   county of sacramento v  lewis      u  s                   kennedy  j   concurring',\n",
       " 'this emerging recognition should have been apparent when bowers was decided   in      the american law institute promulgated the model penal code and made clear that it did not recommend or provide for criminal penalties for consensual sexual relations conducted in private   ali  model penal code        comment    p              it justified its decision on three grounds     the prohibitions undermined respect for the law by penalizing conduct many people engaged in      the statutes regulated private conduct not harmful to others  and     the laws were arbitrarily enforced and thus invited the danger of blackmail   ali  model penal code  commentary         tent  draft no             in      illinois changed its laws to conform to the model penal code   other states soon followed   brief for cato institute as amicus curiae',\n",
       " 'in bowers the court referred to the fact that before      all    states had outlawed sodomy  and that at the time of the courts decision    states and the district of columbia had sodomy laws      u s   at          justice powell pointed out that these prohibitions often were being ignored  however   georgia  for instance  had not sought to enforce its law for decades   id   at         n    the history of nonenforcement suggests the moribund character today of laws criminalizing this type of private  consensual conduct',\n",
       " 'the sweeping references by chief justice burger to the history of western civilization and to judeo christian moral and ethical standards did not take account of other authorities pointing in an opposite direction   a committee advising the british parliament recommended in      repeal of laws punishing homosexual conduct   the wolfenden report  report of the committee on homosexual offenses and prostitution          parliament enacted the substance of those recommendations    years later   sexual offences act',\n",
       " 'of even more importance  almost five years before bowers was decided the european court of human rights considered a case with parallels to bowers and to todays case   an adult male resident in northern ireland alleged he was a practicing homosexual who desired to engage in consensual homosexual conduct   the laws of northern ireland forbade him that right   he alleged that he had been questioned  his home had been searched  and he feared criminal prosecution   the court held that the laws proscribing the conduct were invalid under the european convention on human rights   dudgeon v  united kingdom     eur  ct  h r          para        authoritative in all countries that are members of the council of europe     nations then     nations now   the decision is at odds with the premise in bowers that the claim put forward was insubstantial in our western civilization',\n",
       " 'in our own constitutional system the deficiencies in  bowers became even more apparent in the years following its announcement   the    states with laws prohibiting the relevant conduct referenced in the bowers decision are reduced now to     of which   enforce their laws only against homosexual conduct   in those states where sodomy is still proscribed  whether for same sex or heterosexual conduct  there is a pattern of nonenforcement with respect to consenting adults acting in private   the state of texas admitted in      that as of that date it had not prosecuted anyone under those circumstances   state v  morales      s w  d',\n",
       " 'two principal cases decided after bowers cast its holding into even more doubt   in planned parenthood of southeastern pa  v  casey      u s              the court reaffirmed the substantive force of the liberty protected by the due process clause   the casey decision again confirmed that our laws and tradition afford constitutional protection to personal decisions relating to marriage  procreation  contraception  family relationships  child rearing  and education   id   at       in explaining the respect the constitution demands for the autonomy of the person in making these choices  we stated as follows',\n",
       " 'these matters  involving the most intimate and personal choices a person may make in a lifetime  choices central to personal dignity and autonomy  are central to the liberty protected by the fourteenth amendment   at the heart of liberty is the right to define ones own concept of existence  of meaning  of the universe  and of the mystery of human life   beliefs about these matters could not define the attributes of personhood were they formed under compulsion of the state   ibid',\n",
       " 'persons in a homosexual relationship may seek autonomy for these purposes  just as heterosexual persons do   the decision in bowers would deny them this right',\n",
       " 'the second post bowers case of principal relevance is romer v  evans      u s               there the court struck down class based legislation directed at homosexuals as a violation of the equal protection clause   romer invalidated an amendment to colorados constitution which named as a solitary class persons who were homosexuals  lesbians  or bisexual either by orientation  conduct  practices or relationships  id   at      internal quotation marks omitted   and deprived them of protection under state antidiscrimination laws   we concluded that the provision was born of animosity toward the class of persons affected and further that it had no rational relation to a legitimate governmental purpose   id   at',\n",
       " 'as an alternative argument in this case  counsel for the petitioners and some amici contend that romer provides the basis for declaring the texas statute invalid under the equal protection clause   that is a tenable argument  but we conclude the instant case requires us to address whether bowers itself has continuing validity   were we to hold the statute invalid under the equal protection clause some might question whether a prohibition would be valid if drawn differently  say  to prohibit the conduct both between same sex and different sex participants',\n",
       " 'equality of treatment and the due process right to demand respect for conduct protected by the substantive guarantee of liberty are linked in important respects  and a decision on the latter point advances both interests   if protected conduct is made criminal and the law which does so remains unexamined for its substantive validity  its stigma might remain even if it were not enforceable as drawn for equal protection reasons   when homosexual conduct is made criminal by the law of the state  that declaration in and of itself is an invitation to subject homosexual persons to discrimination both in the public and in the private spheres   the central holding of bowers has been brought in question by this case  and it should be addressed   its continuance as precedent demeans the lives of homosexual persons',\n",
       " 'the stigma this criminal statute imposes  moreover  is not trivial   the offense  to be sure  is but a class c misdemeanor  a minor offense in the texas legal system   still  it remains a criminal offense with all that imports for the dignity of the persons charged   the petitioners will bear on their record the history of their criminal convictions   just this term we rejected various challenges to state laws requiring the registration of sex offenders   smith v  doe      u s             connecticut dept  of public safety v  doe      u s             we are advised that if texas convicted an adult for private  consensual homosexual conduct under the statute here in question the convicted person would come within the registration laws of a least four states were he or she to be subject to their jurisdiction   pet  for cert      and n     citing idaho code        to         cum  supp         la  code crim  proc  ann                 west        miss  code ann         to         lexis        s c  code ann         to         west          this underscores the consequential nature of the punishment and the state sponsored condemnation attendant to the criminal prohibition   furthermore  the texas criminal conviction carries with it the other collateral consequences always following a conviction  such as notations on job application forms  to mention but one example',\n",
       " 'the foundations of bowers have sustained serious erosion from our recent decisions in casey and romer   when our precedent has been thus weakened  criticism from other sources is of greater significance   in the united states criticism of bowers has been substantial and continuing  disapproving of its reasoning in all respects  not just as to its historical assumptions   see  e g   c fried  order and law  arguing the reagan revolutiona firsthand account              r  posner  sex and reason                 the courts of five different states have declined to follow it in interpreting provisions in their own state constitutions parallel to the due process clause of the fourteenth amendment  see jegley v  picado      ark          s w  d             powell v  state      ga           s e  d                gryczan v  state      mont           p  d             campbell v  sundquist      s w  d      tenn  app         commonwealth v  wasson      s w  d      ky',\n",
       " 'to the extent bowers relied on values we share with a wider civilization  it should be noted that the reasoning and holding in bowers have been rejected elsewhere   the european court of human rights has followed not bowers but its own decision in dudgeon v  united kingdom   see p g    j h  v  united kingdom  app  no                para       eur  ct  h r   sept             modinos v  cyprus      eur  ct  h r          norris v  ireland      eur  ct  h r           other nations  too  have taken action consistent with an affirmation of the protected right of homosexual adults to engage in intimate  consensual conduct   see brief for mary robinson etal  as amici curiae        the right the petitioners seek in this case has been accepted as an integral part of human freedom in many other countries   there has been no showing that in this country the governmental interest in circumscribing personal choice is somehow more legitimate or urgent',\n",
       " 'the doctrine of stare decisis is essential to the respect accorded to the judgments of the court and to the stability of the law   it is not  however  an inexorable command  payne v  tennessee      u  s                   stare decisis is not an inexorable command  rather  it is a principle of policy and not a mechanical formula of adherence to the latest decision     quoting helvering v  hallock      u s                      in casey we noted that when a court is asked to overrule a precedent recognizing a constitutional liberty interest  individual or societal reliance on the existence of that liberty cautions with particular strength against reversing course       u s   at         see also id   at      liberty finds no refuge in a jurisprudence of doubt    the holding in bowers  however  has not induced detrimental reliance comparable to some instances where recognized individual rights are involved   indeed  there has been no individual or societal reliance on bowers of the sort that could counsel against overturning its holding once there are compelling reasons to do so   bowers itself causes uncertainty  for the precedents before and after its issuance contradict its central holding',\n",
       " 'the rationale of bowers does not withstand careful analysis   in his dissenting opinion in bowers justice stevens came to these conclusions',\n",
       " 'our prior cases make two propositions abundantly clear   first  the fact that the governing majority in a state has traditionally viewed a particular practice as immoral is not a sufficient reason for upholding a law prohibiting the practice  neither history nor tradition could save a law prohibiting miscegenation from constitutional attack   second  individual decisions by married persons  concerning the intimacies of their physical relationship  even when not intended to produce offspring  are a form of liberty protected by the due process clause of the fourteenth amendment   moreover  this protection extends to intimate choices by unmarried as well as married persons       u s   at      footnotes and citations omitted',\n",
       " 'justice stevens analysis  in our view  should have been controlling in bowers and should control here',\n",
       " 'bowers was not correct when it was decided  and it is not correct today   it ought not to remain binding precedent   bowers v  hardwick should be and now is overruled',\n",
       " 'the present case does not involve minors   it does not involve persons who might be injured or coerced or who are situated in relationships where consent might not easily be refused   it does not involve public conduct or prostitution   it does not involve whether the government must give formal recognition to any relationship that homosexual persons seek to enter   the case does involve two adults who  with full and mutual consent from each other  engaged in sexual practices common to a homosexual lifestyle   the petitioners are entitled to respect for their private lives   the state cannot demean their existence or control their destiny by making their private sexual conduct a crime   their right to liberty under the due process clause gives them the full right to engage in their conduct without intervention of the government   it is a promise of the constitution that there is a realm of personal liberty which the government may not enter   casey  supra  at       the texas statute furthers no legitimate state interest which can justify its intrusion into the personal and private life of the individual',\n",
       " 'had those who drew and ratified the due process clauses of the fifth amendment or the fourteenth amendment known the components of liberty in its manifold possibilities  they might have been more specific   they did not presume to have this insight   they knew times can blind us to certain truths and later generations can see that laws once thought necessary and proper in fact serve only to oppress   as the constitution endures  persons in every generation can invoke its principles in their own search for greater freedom',\n",
       " 'the judgment of the court of appeals for the texas fourteenth district is reversed  and the case is remanded for further proceedings not inconsistent with this opinion',\n",
       " 'it is so ordered']"
      ]
     },
     "execution_count": 20,
     "metadata": {},
     "output_type": "execute_result"
    }
   ],
   "source": [
    "clean([txt.text for txt in soup.find(class_=\"opinion\").find(class_='bodytext')])"
   ]
  }
 ],
 "metadata": {
  "kernelspec": {
   "display_name": "Python 3.9.13 64-bit",
   "language": "python",
   "name": "python3"
  },
  "language_info": {
   "codemirror_mode": {
    "name": "ipython",
    "version": 3
   },
   "file_extension": ".py",
   "mimetype": "text/x-python",
   "name": "python",
   "nbconvert_exporter": "python",
   "pygments_lexer": "ipython3",
   "version": "3.9.13"
  },
  "orig_nbformat": 4,
  "vscode": {
   "interpreter": {
    "hash": "aee8b7b246df8f9039afb4144a1f6fd8d2ca17a180786b69acc140d282b71a49"
   }
  }
 },
 "nbformat": 4,
 "nbformat_minor": 2
}
