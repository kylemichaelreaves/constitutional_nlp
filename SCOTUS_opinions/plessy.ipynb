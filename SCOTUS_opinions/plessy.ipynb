{
 "cells": [
  {
   "cell_type": "code",
   "execution_count": 1,
   "metadata": {},
   "outputs": [
    {
     "name": "stderr",
     "output_type": "stream",
     "text": [
      "/usr/local/lib/python3.9/site-packages/scipy/__init__.py:146: UserWarning: A NumPy version >=1.16.5 and <1.23.0 is required for this version of SciPy (detected version 1.23.1\n",
      "  warnings.warn(f\"A NumPy version >={np_minversion} and <{np_maxversion}\"\n"
     ]
    }
   ],
   "source": [
    "import re\n",
    "from nltk import *\n",
    "from bs4 import BeautifulSoup\n",
    "import string\n",
    "import requests\n",
    "from collections import Counter\n",
    "from sklearn.feature_extraction.text import CountVectorizer, TfidfVectorizer, TfidfTransformer\n",
    "from sklearn.decomposition import NMF, LatentDirichletAllocation, TruncatedSVD\n",
    "import pandas as pd\n",
    "from nltk.stem import WordNetLemmatizer\n",
    "from nltk.corpus import stopwords\n",
    "from nltk.cluster.util import cosine_distance\n",
    "from nltk import RegexpParser, Tree\n",
    "from nltk.util import ngrams\n",
    "\n",
    "stop_words = set(stopwords.words('english'))\n",
    "wnl = WordNetLemmatizer()"
   ]
  },
  {
   "cell_type": "code",
   "execution_count": 2,
   "metadata": {},
   "outputs": [],
   "source": [
    "plessy = 'https://www.law.cornell.edu/supremecourt/text/163/537'\n",
    "r = requests.get(plessy).text\n",
    "soup = BeautifulSoup(r, 'html.parser')"
   ]
  },
  {
   "cell_type": "code",
   "execution_count": 33,
   "metadata": {},
   "outputs": [],
   "source": [
    "def get_text():\n",
    "    text = soup.find(class_='bodytext')        \n",
    "    text = [t.text for t in text]\n",
    "    return text\n",
    "\n",
    "def clean(text):\n",
    "    # remove unicode characters\n",
    "    text = [txt.encode(\"ascii\", \"ignore\").decode(\"ascii\") for txt in text]\n",
    "    # lowercase each string\n",
    "    text = [txt.lower() for txt in text]\n",
    "    # remove new line escape character\n",
    "    text = [txt.replace('\\n', '') for txt in text]\n",
    "    # remove punctuation\n",
    "    text = [re.sub('[%s]' % re.escape(string.punctuation), ' ', txt) for txt in text]\n",
    "    # remove digits\n",
    "    text = [re.sub('[%s]' % re.escape(string.digits), ' ', txt) for txt in text]\n",
    "    # remove empty strings\n",
    "    text = [txt.strip() for txt in text if txt]\n",
    "    return text"
   ]
  },
  {
   "cell_type": "code",
   "execution_count": 51,
   "metadata": {},
   "outputs": [],
   "source": [
    "plessy_text = get_text()\n",
    "plessy_text = [sent_tokenize(sent) for sent in plessy_text]\n",
    "plessy_text = [sent for sent in plessy_text if sent] \n",
    "opinion = plessy_text[6:34]\n",
    "dissent = plessy_text[36:-1]"
   ]
  },
  {
   "cell_type": "code",
   "execution_count": 89,
   "metadata": {},
   "outputs": [],
   "source": [
    "opinion_tokens = [clean(word_tokenize(word)) for sent in opinion for word in sent]\n",
    "cleaned_tokens = [word for sent in opinion_tokens for word in sent if word]\n",
    "plessy_stopped = [word for word in cleaned_tokens if word not in stop_words]"
   ]
  },
  {
   "cell_type": "code",
   "execution_count": 91,
   "metadata": {},
   "outputs": [
    {
     "name": "stdout",
     "output_type": "stream",
     "text": [
      "(2686, 10)\n",
      "(2686, 10)\n",
      "(2686, 10)\n"
     ]
    },
    {
     "name": "stderr",
     "output_type": "stream",
     "text": [
      "/usr/local/lib/python3.9/site-packages/sklearn/decomposition/_nmf.py:289: FutureWarning: The 'init' value, when 'init=None' and n_components is less than n_samples and n_features, will be changed from 'nndsvd' to 'nndsvda' in 1.1 (renaming of 0.26).\n",
      "  warnings.warn(\n"
     ]
    }
   ],
   "source": [
    "NUM_TOPICS = 10\n",
    "\n",
    "vectorizer = CountVectorizer(min_df=5, max_df=0.9, stop_words='english', lowercase=True)\n",
    "data_vectorized = vectorizer.fit_transform(plessy_stopped)\n",
    "\n",
    "lda_model = LatentDirichletAllocation(n_components=NUM_TOPICS, max_iter=10, learning_method='online')\n",
    "lda_Z = lda_model.fit_transform(data_vectorized)\n",
    "print(lda_Z.shape)\n",
    "\n",
    "nmf_model = NMF(n_components=NUM_TOPICS)\n",
    "nmf_Z = nmf_model.fit_transform(data_vectorized)\n",
    "print(nmf_Z.shape)\n",
    "\n",
    "lsi_model = TruncatedSVD(n_components=NUM_TOPICS)\n",
    "lsi_Z = lsi_model.fit_transform(data_vectorized)\n",
    "print(lsi_Z.shape)\n",
    "\n",
    "def print_topics(model, vectorizer, top_n=10):\n",
    "    for idx, topic in enumerate(model.components_):\n",
    "        print(\"Topic %d:\" % (idx))\n",
    "        print([(vectorizer.get_feature_names()[i], topic[i])\n",
    "                        for i in topic.argsort()[:-top_n - 1:-1]])"
   ]
  },
  {
   "cell_type": "code",
   "execution_count": 92,
   "metadata": {},
   "outputs": [
    {
     "name": "stdout",
     "output_type": "stream",
     "text": [
      "LDA Model:\n",
      "Topic 0:\n",
      "[('race', 41.380909820678184), ('act', 18.131618884997806), ('question', 12.269996355467718), ('equal', 11.928383434935379), ('constitution', 7.001394029896492), ('exercise', 5.429997264891103), ('carrying', 5.367148677622111), ('shall', 0.1002343144373943), ('justice', 0.10021276709084843), ('general', 0.1001905459962534)]\n",
      "Topic 1:\n",
      "[('said', 16.05955976621757), ('commerce', 13.983654389292484), ('passengers', 12.244466660590884), ('railroad', 10.470137231047872), ('st', 10.180891138387937), ('children', 6.946577219239472), ('particular', 6.329224150994328), ('prohibition', 6.262348974351535), ('civil', 6.142518719420613), ('ohio', 5.977669146266599)]\n",
      "Topic 2:\n",
      "[('colored', 34.8374077696012), ('rights', 16.508793242207286), ('passenger', 16.44033335642596), ('separate', 15.4175586249693), ('petitioner', 11.807155187576699), ('parish', 5.068756721580701), ('carrying', 0.10003125012561528), ('statute', 0.10003087912790364), ('accommodations', 0.10003073055019034), ('different', 0.1000304158306593)]\n",
      "Topic 3:\n",
      "[('laws', 24.58904494699454), ('case', 20.806088280438527), ('amendment', 16.747284299237947), ('fourteenth', 9.412719024227664), ('provide', 7.414458412965241), ('cases', 6.948424945497525), ('acts', 6.55971792779099), ('servitude', 6.489807850898752), ('argument', 5.743323403139638), ('general', 5.674730795809951)]\n",
      "Topic 4:\n",
      "[('law', 15.221960825044622), ('persons', 12.792957960954512), ('people', 12.08252902477999), ('ct', 10.751949165599333), ('citizens', 9.467350175279911), ('public', 8.824030669311771), ('slavery', 7.1927617787662825), ('police', 6.0464228349084355), ('information', 5.047381397843475), ('distinction', 4.855484155042509)]\n",
      "Topic 5:\n",
      "[('white', 26.898435436925105), ('privileges', 9.148648662144772), ('schools', 8.989964139240085), ('error', 7.681136826187941), ('separation', 6.6420693001617), ('certain', 6.212638015650505), ('fed', 5.514676072714288), ('action', 5.463844252588903), ('political', 5.215081985170602), ('officer', 5.147007870952462)]\n",
      "Topic 6:\n",
      "[('states', 25.212421759598403), ('coach', 14.35907995974105), ('district', 6.325679441553768), ('secured', 6.253421296811144), ('opinion', 4.968015053401128), ('involuntary', 4.549651956435685), ('slavery', 0.10079857877994747), ('commerce', 0.10048732579996703), ('proceedings', 0.10021042814407208), ('set', 0.10018663350319484)]\n",
      "Topic 7:\n",
      "[('races', 19.026573231337395), ('color', 14.271151372844447), ('sup', 11.719995812886697), ('louisiana', 11.698549769560902), ('property', 10.596646266509213), ('company', 8.773513876477761), ('good', 6.957809055241659), ('supreme', 6.439548386555628), ('justice', 5.448344407958248), ('equality', 5.080140729570246)]\n",
      "Topic 8:\n",
      "[('state', 51.229236196909824), ('power', 21.0620904165997), ('railway', 14.785563651412595), ('shall', 12.642200110250057), ('legislation', 11.534187226790975), ('person', 10.494599334064622), ('statute', 10.47071204197424), ('accommodations', 10.244580129815569), ('right', 7.871915679466051), ('section', 6.51733848932465)]\n",
      "Topic 9:\n",
      "[('court', 25.39452942368452), ('held', 14.495970003793921), ('united', 11.389112470803669), ('assigned', 8.629090291883314), ('congress', 8.509549860825127), ('blood', 8.445842787436247), ('plaintiff', 8.175088006066717), ('man', 7.316700327850178), ('requiring', 6.664635940780117), ('proceedings', 4.662228408111068)]\n",
      "====================\n"
     ]
    },
    {
     "name": "stderr",
     "output_type": "stream",
     "text": [
      "/usr/local/lib/python3.9/site-packages/sklearn/utils/deprecation.py:87: FutureWarning: Function get_feature_names is deprecated; get_feature_names is deprecated in 1.0 and will be removed in 1.2. Please use get_feature_names_out instead.\n",
      "  warnings.warn(msg, category=FutureWarning)\n"
     ]
    }
   ],
   "source": [
    "print(\"LDA Model:\")\n",
    "print_topics(lda_model, vectorizer)\n",
    "print(\"=\" * 20)"
   ]
  },
  {
   "cell_type": "code",
   "execution_count": 93,
   "metadata": {},
   "outputs": [
    {
     "name": "stdout",
     "output_type": "stream",
     "text": [
      "SVD Model:\n",
      "Topic 0:\n",
      "[('state', 0.999999887768824), ('color', 0.000334374797524938), ('commerce', 0.00012671539305462597), ('said', 0.00012063042159822165), ('amendment', 0.00011964559268360472), ('railway', 0.00011120377340840466), ('passengers', 7.930581518739785e-05), ('question', 7.436836254608968e-05), ('petitioner', 6.938941127552435e-05), ('shall', 6.766521743007588e-05)]\n",
      "Topic 1:\n",
      "[('race', 0.9999990287290598), ('separate', 0.00023315141175294515), ('rights', 0.0002261691199049598), ('united', 0.00019787105303845093), ('passenger', 0.00019433410990208063), ('case', 0.00018297703841458187), ('coach', 0.0001802535549523719), ('accommodations', 0.00014153647121677523), ('sup', 0.00011500692580174148), ('equal', 8.188287714293317e-05)]\n",
      "Topic 2:\n",
      "[('colored', 0.9999979597827215), ('color', 0.0005519330936291733), ('railway', 0.000528330581513063), ('equal', 0.0005124449926329561), ('law', 0.00026169319314520617), ('question', 0.0002582559738800003), ('passenger', 0.0002152537775999223), ('said', 0.00021360124138760964), ('railroad', 0.00019425761627729705), ('petitioner', 0.00017690963706580137)]\n",
      "Topic 3:\n",
      "[('court', 0.999930987572641), ('passengers', 0.004062771259089147), ('color', 0.004034631271864093), ('people', 0.0023337816536626375), ('white', 0.0015816960184111967), ('railway', 0.0014004599791608786), ('passenger', 0.0013950449503896702), ('railroad', 0.000836533122735971), ('assigned', 0.0007488930159276066), ('right', 0.0006947222402545088)]\n",
      "Topic 4:\n",
      "[('white', 0.9331812530492446), ('states', 0.3591746927417688), ('persons', 0.005618473974619737), ('united', 0.004120437028689427), ('passengers', 0.0035409898247414817), ('races', 0.0022613813442251525), ('people', 0.0020121556358466196), ('amendment', 0.001714436015714789), ('petitioner', 0.001426283336192854), ('question', 0.0013763257629420477)]\n",
      "Topic 5:\n",
      "[('states', 0.9330294333092809), ('passenger', 0.006592226537207618), ('petitioner', 0.0032299398650204843), ('louisiana', 0.002971269184230867), ('property', 0.0024533142852864996), ('person', 0.0023630943838266975), ('passengers', 0.002214220350518487), ('accommodations', 0.0018565363748166057), ('court', 0.0017674091364948193), ('st', 0.0008035747617747627)]\n",
      "Topic 6:\n",
      "[('laws', 0.9989533250801924), ('races', 0.015033530894350522), ('petitioner', 0.008895358217959422), ('people', 0.006618177561275133), ('passengers', 0.0062414291136502625), ('louisiana', 0.006128009055168456), ('united', 0.0054396563468432895), ('passenger', 0.004447310648704146), ('persons', 0.004313727649448634), ('rights', 0.004156963356782925)]\n",
      "Topic 7:\n",
      "[('power', 0.8781048225126599), ('law', 0.020129120013410877), ('persons', 0.018285591843380144), ('rights', 0.017526300275998167), ('amendment', 0.011360203942542677), ('sup', 0.010726198737995542), ('said', 0.01036734791350332), ('petitioner', 0.009239088255520814), ('equal', 0.008911267256737482), ('commerce', 0.00801814149799697)]\n",
      "Topic 8:\n",
      "[('case', 0.8707088312666721), ('power', 0.47079796052480916), ('said', 0.07508955678832743), ('color', 0.039020226239187675), ('act', 0.03729467063032317), ('louisiana', 0.028045191361782303), ('petitioner', 0.027776433348593945), ('amendment', 0.021311880792081565), ('law', 0.016301931967298917), ('persons', 0.015416808791113481)]\n",
      "Topic 9:\n",
      "[('act', 0.9939215538268729), ('law', 0.033384396568660546), ('united', 0.021165726096125492), ('rights', 0.016508226552279102), ('railway', 0.012455072387398656), ('held', 0.009703559826114342), ('sup', 0.008485094219879141), ('ct', 0.007482813483810731), ('st', 0.0069528145743692794), ('legislation', 0.00599174851296231)]\n",
      "====================\n"
     ]
    }
   ],
   "source": [
    "print(\"SVD Model:\")\n",
    "print_topics(lsi_model, vectorizer)\n",
    "print(\"=\" * 20)"
   ]
  },
  {
   "cell_type": "code",
   "execution_count": 94,
   "metadata": {},
   "outputs": [
    {
     "name": "stdout",
     "output_type": "stream",
     "text": [
      "NMF Model:\n",
      "Topic 0:\n",
      "[('state', 2.659147947363406), ('passenger', 1.8254273684374448e-26), ('said', 1.326958728113662e-26), ('races', 1.2883327986602069e-26), ('amendment', 7.777956876210687e-28), ('rights', 2.4066789185880586e-28), ('coach', 4.322057349265295e-29), ('railway', 6.395568284817204e-30), ('separate', 3.438709805670099e-30), ('law', 1.3088686256600636e-30)]\n",
      "Topic 1:\n",
      "[('race', 2.5457298392477563), ('passenger', 4.273306428939555e-22), ('races', 2.9388775146714284e-22), ('said', 6.027131563213107e-23), ('amendment', 9.230018920930518e-25), ('coach', 5.161792730076093e-25), ('law', 5.393184180498017e-26), ('separate', 2.3327719675217854e-26), ('color', 1.0594557751198074e-27), ('persons', 2.654054619884575e-29)]\n",
      "Topic 2:\n",
      "[('colored', 2.414735501050429), ('said', 3.131239954423774e-17), ('rights', 1.4618019053970783e-19), ('law', 1.2182134088147824e-20), ('coach', 6.783137320815167e-21), ('separate', 2.1157523485108534e-21), ('held', 4.456884472516113e-22), ('shall', 1.7974197940664469e-22), ('united', 1.7605208610174449e-25), ('legislation', 2.667690227536733e-27)]\n",
      "Topic 3:\n",
      "[('court', 2.279498646753053), ('said', 7.29906609400425e-12), ('passenger', 5.980194979258683e-12), ('races', 3.6062264682131936e-12), ('rights', 2.1963661506537848e-14), ('shall', 6.514540585621199e-17), ('color', 6.403658514849346e-17), ('separate', 5.3356211895656314e-17), ('commerce', 1.9092629332159528e-18), ('persons', 2.2289272255836476e-19)]\n",
      "Topic 4:\n",
      "[('states', 2.4213428681769846), ('passenger', 4.3173934257152746e-11), ('races', 3.067407734606607e-11), ('coach', 6.569375487283507e-14), ('color', 2.0629117623735572e-16), ('equal', 1.6713605130544517e-21), ('people', 1.891494696978238e-22), ('accommodations', 2.3018836971777684e-23), ('schools', 2.8606825640784536e-26), ('fourteenth', 8.800306884616256e-27)]\n",
      "Topic 5:\n",
      "[('white', 2.4926311843955102), ('said', 1.4639056371415317e-10), ('rights', 6.809194069023161e-13), ('law', 1.426491367620628e-14), ('separate', 7.7665051337714e-15), ('shall', 1.2685788672721858e-15), ('held', 1.209359956265825e-15), ('louisiana', 1.7923498966715092e-19), ('question', 3.3046981706531226e-21), ('legislation', 1.313578473301435e-21)]\n",
      "Topic 6:\n",
      "[('laws', 2.2132844553153905), ('passenger', 4.7945543638043676e-09), ('races', 3.928450755430649e-09), ('amendment', 6.040451976413447e-11), ('coach', 7.416818372873425e-12), ('law', 4.073567975222881e-13), ('color', 4.723657957755726e-14), ('persons', 7.638937324950788e-16), ('louisiana', 1.1160305780000185e-17), ('passengers', 1.0711295630180251e-17)]\n",
      "Topic 7:\n",
      "[('case', 2.191322979777313), ('races', 0.00014461270474576437), ('amendment', 1.960612487663044e-05), ('coach', 3.0075201209371474e-08), ('railway', 2.4726536618839523e-08), ('petitioner', 4.928388752686535e-10), ('color', 9.895231153454907e-11), ('commerce', 1.6238934362420557e-11), ('passengers', 6.241908234966754e-13), ('equal', 1.696982673269403e-14)]\n",
      "Topic 8:\n",
      "[('power', 2.2040652974535986), ('passenger', 0.00043954780109194596), ('said', 0.00042866420226700896), ('races', 0.00013617756186195453), ('rights', 2.312581045271362e-07), ('coach', 1.6456137928317588e-07), ('law', 1.0026647438643494e-08), ('color', 2.9989201013709868e-09), ('shall', 9.102295611216598e-10), ('persons', 2.6700100551223527e-11)]\n",
      "Topic 9:\n",
      "[('act', 2.085101415205419), ('races', 0.001116111958422819), ('amendment', 0.0002251802466669121), ('separate', 5.863826921539881e-07), ('rights', 4.72814723152343e-07), ('railway', 3.9988170839291027e-07), ('petitioner', 2.746047536998066e-08), ('commerce', 8.029601492566262e-10), ('held', 4.594366903640827e-10), ('persons', 3.121995728150456e-10)]\n",
      "====================\n"
     ]
    }
   ],
   "source": [
    "print(\"NMF Model:\")\n",
    "print_topics(nmf_model, vectorizer)\n",
    "print(\"=\" * 20)"
   ]
  },
  {
   "cell_type": "code",
   "execution_count": null,
   "metadata": {},
   "outputs": [],
   "source": []
  }
 ],
 "metadata": {
  "kernelspec": {
   "display_name": "Python 3.9.13 64-bit",
   "language": "python",
   "name": "python3"
  },
  "language_info": {
   "codemirror_mode": {
    "name": "ipython",
    "version": 3
   },
   "file_extension": ".py",
   "mimetype": "text/x-python",
   "name": "python",
   "nbconvert_exporter": "python",
   "pygments_lexer": "ipython3",
   "version": "3.9.13"
  },
  "orig_nbformat": 4,
  "vscode": {
   "interpreter": {
    "hash": "aee8b7b246df8f9039afb4144a1f6fd8d2ca17a180786b69acc140d282b71a49"
   }
  }
 },
 "nbformat": 4,
 "nbformat_minor": 2
}
