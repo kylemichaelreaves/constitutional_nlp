{
 "cells": [
  {
   "cell_type": "code",
   "execution_count": 1,
   "metadata": {},
   "outputs": [
    {
     "name": "stderr",
     "output_type": "stream",
     "text": [
      "/usr/local/lib/python3.9/site-packages/scipy/__init__.py:146: UserWarning: A NumPy version >=1.16.5 and <1.23.0 is required for this version of SciPy (detected version 1.23.0\n",
      "  warnings.warn(f\"A NumPy version >={np_minversion} and <{np_maxversion}\"\n"
     ]
    }
   ],
   "source": [
    "import re\n",
    "from nltk import *\n",
    "from bs4 import BeautifulSoup\n",
    "import string\n",
    "import requests"
   ]
  },
  {
   "cell_type": "code",
   "execution_count": 2,
   "metadata": {},
   "outputs": [],
   "source": [
    "plessy = 'https://www.law.cornell.edu/supremecourt/text/163/537'"
   ]
  },
  {
   "cell_type": "code",
   "execution_count": 16,
   "metadata": {},
   "outputs": [],
   "source": [
    "def get_text(url):\n",
    "    r = requests.get(url).text\n",
    "    soup = BeautifulSoup(r, 'html.parser')\n",
    "    text = soup.find(class_='bodytext')\n",
    "    text = [t.text for t in text]\n",
    "    # remove unicode characters\n",
    "    text = [txt.encode(\"ascii\", \"ignore\").decode(\"ascii\") for txt in text]\n",
    "    # lower each string\n",
    "    text = [txt.lower() for txt in text]\n",
    "    # remove new line escape character\n",
    "    text = [txt.replace('\\n', '') for txt in text]\n",
    "    # remove punctuation\n",
    "    text = [re.sub('[%s]' % re.escape(string.punctuation), ' ', txt) for txt in text]\n",
    "    # remove digits\n",
    "    # text = [re.sub('[%s]' % re.escape(string.digits), ' ', txt) for txt in text]\n",
    "    \n",
    "    # remove empty strings\n",
    "    text = [txt for txt in text if txt]\n",
    "    return text"
   ]
  },
  {
   "cell_type": "code",
   "execution_count": 17,
   "metadata": {},
   "outputs": [],
   "source": [
    "plessy_text = get_text(plessy)"
   ]
  },
  {
   "cell_type": "code",
   "execution_count": 26,
   "metadata": {},
   "outputs": [],
   "source": [
    "facts_of_the_case = word_tokenize((sent_tokenize(plessy_text[6])[1]))"
   ]
  },
  {
   "cell_type": "code",
   "execution_count": 70,
   "metadata": {},
   "outputs": [],
   "source": [
    "def clean(word):\n",
    "    cleaned = re.sub('[%s]' % re.escape(string.punctuation), ' ', word)\n",
    "    cleaned = re.sub('[%s]' % re.escape(string.digits), ' ', cleaned)\n",
    "    cleaned = cleaned.strip()\n",
    "    return cleaned"
   ]
  },
  {
   "cell_type": "code",
   "execution_count": 71,
   "metadata": {},
   "outputs": [],
   "source": [
    "cleaned_facts = [clean(word) for word in facts_of_the_case]\n",
    "cleaned_facts = [word for word in cleaned_facts if word]"
   ]
  },
  {
   "cell_type": "code",
   "execution_count": 72,
   "metadata": {},
   "outputs": [
    {
     "data": {
      "text/plain": [
       "'john h ferguson judge of the criminal district court for the parish of orleans and setting forth in substance the following facts that petitioner was a citizen of the united states and a resident of the state of louisiana of mixed descent in the proportion of seven e ghths caucasian and one eighth african blood that the mixture of colored blood was not discernible in him and that he was entitled to every recognition right privilege and immunity secured to the citizens of the united states of the white race by its constitution and laws that on june he engaged and paid for a first class passage on the east louisiana railway from new orleans to covington in the same state and thereupon entered a passenger train and took possession of a vacant seat in a coach where passengers of the white race were accommodated that such railroad company was incorporated by the laws of louisiana as a common carrier and was not authorized to distinguish between citizens according to their race but notwithstanding this petitioner was required by the conductor under penalty of ejection from said train and imprisonment to vacate said coach and occupy another seat in a coach assigned by said company for persons not of the white race and for no other reason than that petitioner was of the colored race that upon petitioner s refusal to comply with such order he was with the aid of a police officer forcibly ejected from said coach and hurried off to and imprisoned in the parish jail of new orleans and there held to answer a charge made by such officer to the effect that he was guilty of having criminally violated an act of the general assembly of the state approved july in such case made and provided the petitioner was subsequently brought before the recorder of the city for preliminary examination and committed for trial to the criminal district court for the parish of orleans where an information was filed against him in the matter above set forth for a violation of the above act which act the petitioner affirmed to be null and void because in conflict with the constitution of the united states that petitioner interposed a plea to such information based upon the unconstitutionality of the act of the general assembly to which the district attorney on behalf of the state filed a demurrer that upon issue being joined upon such demurrer and plea the court sustained the demurrer overruled the plea and ordered petitioner to plead over to the facts set forth in the information and that unless the judge of the said court be enjoined by a writ of prohibition from further proceeding in such case the court will proceed to fine and sentence petitioner to imprisonment and thus deprive him of his constitutional rights set forth in his said plea notwithstanding the unconstitutionality of the act under which he was being prosecuted that no appeal lay from such sentence and petitioner was without relief or remedy except by writs of prohibition and certiorari'"
      ]
     },
     "execution_count": 72,
     "metadata": {},
     "output_type": "execute_result"
    }
   ],
   "source": [
    "' '.join(cleaned_facts)"
   ]
  },
  {
   "cell_type": "code",
   "execution_count": 8,
   "metadata": {},
   "outputs": [
    {
     "data": {
      "text/plain": [
       "61"
      ]
     },
     "execution_count": 8,
     "metadata": {},
     "output_type": "execute_result"
    }
   ],
   "source": [
    "len(plessy_text)"
   ]
  },
  {
   "cell_type": "code",
   "execution_count": 11,
   "metadata": {},
   "outputs": [
    {
     "data": {
      "text/plain": [
       "['Formatter',\n",
       " 'Template',\n",
       " '_ChainMap',\n",
       " '__all__',\n",
       " '__builtins__',\n",
       " '__cached__',\n",
       " '__doc__',\n",
       " '__file__',\n",
       " '__loader__',\n",
       " '__name__',\n",
       " '__package__',\n",
       " '__spec__',\n",
       " '_re',\n",
       " '_sentinel_dict',\n",
       " '_string',\n",
       " 'ascii_letters',\n",
       " 'ascii_lowercase',\n",
       " 'ascii_uppercase',\n",
       " 'capwords',\n",
       " 'digits',\n",
       " 'hexdigits',\n",
       " 'octdigits',\n",
       " 'printable',\n",
       " 'punctuation',\n",
       " 'whitespace']"
      ]
     },
     "execution_count": 11,
     "metadata": {},
     "output_type": "execute_result"
    }
   ],
   "source": [
    "dir(string)"
   ]
  }
 ],
 "metadata": {
  "kernelspec": {
   "display_name": "Python 3.9.13 64-bit",
   "language": "python",
   "name": "python3"
  },
  "language_info": {
   "codemirror_mode": {
    "name": "ipython",
    "version": 3
   },
   "file_extension": ".py",
   "mimetype": "text/x-python",
   "name": "python",
   "nbconvert_exporter": "python",
   "pygments_lexer": "ipython3",
   "version": "3.9.13"
  },
  "orig_nbformat": 4,
  "vscode": {
   "interpreter": {
    "hash": "aee8b7b246df8f9039afb4144a1f6fd8d2ca17a180786b69acc140d282b71a49"
   }
  }
 },
 "nbformat": 4,
 "nbformat_minor": 2
}
