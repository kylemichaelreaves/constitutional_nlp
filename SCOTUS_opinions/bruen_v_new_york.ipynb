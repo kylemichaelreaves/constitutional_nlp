{
 "cells": [
  {
   "cell_type": "code",
   "id": "initial_id",
   "metadata": {
    "collapsed": true,
    "ExecuteTime": {
     "end_time": "2024-07-07T19:20:26.993434Z",
     "start_time": "2024-07-07T19:20:26.426234Z"
    }
   },
   "source": [
    "from cleaning_helpers import *\n",
    "\n",
    "case = 'https://supreme.justia.com/cases/federal/us/597/20-843/'\n",
    "soup = make_soup(case)"
   ],
   "outputs": [],
   "execution_count": 1
  },
  {
   "metadata": {
    "ExecuteTime": {
     "end_time": "2024-07-07T19:22:17.811811Z",
     "start_time": "2024-07-07T19:22:17.788458Z"
    }
   },
   "cell_type": "code",
   "source": [
    "thomas_opinion = soup.find('div', {'id': 'tab-opinion-4600259'})\n",
    "alito_concurrence = soup.find('div', {'id': 'tab-opinion-4600255'})\n",
    "kavanaugh_concurrence = soup.find('div', {'id': 'tab-opinion-4600256'})\n",
    "barrett_concurrence = soup.find('div', {'id': 'tab-opinion-4600256'})\n",
    "breyer_dissent = soup.find('div', {'id': 'tab-opinion-4600257'})"
   ],
   "id": "8c79f6aae31953b2",
   "outputs": [],
   "execution_count": 4
  }
 ],
 "metadata": {
  "kernelspec": {
   "display_name": "Python 3",
   "language": "python",
   "name": "python3"
  },
  "language_info": {
   "codemirror_mode": {
    "name": "ipython",
    "version": 2
   },
   "file_extension": ".py",
   "mimetype": "text/x-python",
   "name": "python",
   "nbconvert_exporter": "python",
   "pygments_lexer": "ipython2",
   "version": "2.7.6"
  }
 },
 "nbformat": 4,
 "nbformat_minor": 5
}
