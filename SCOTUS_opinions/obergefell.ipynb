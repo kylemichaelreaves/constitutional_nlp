{
 "cells": [
  {
   "cell_type": "code",
   "execution_count": 2,
   "metadata": {},
   "outputs": [],
   "source": [
    "import re\n",
    "from nltk import *\n",
    "from bs4 import BeautifulSoup\n",
    "import string\n",
    "import requests\n",
    "from collections import Counter\n",
    "from sklearn.feature_extraction.text import CountVectorizer, TfidfVectorizer, TfidfTransformer\n",
    "from sklearn.decomposition import NMF, LatentDirichletAllocation, TruncatedSVD\n",
    "import pandas as pd\n",
    "from nltk.stem import WordNetLemmatizer\n",
    "from nltk.corpus import stopwords\n",
    "from nltk.cluster.util import cosine_distance\n",
    "from nltk import RegexpParser, Tree\n",
    "from nltk.util import ngrams\n",
    "\n",
    "stop_words = set(stopwords.words('english'))\n",
    "wnl = WordNetLemmatizer()"
   ]
  },
  {
   "cell_type": "code",
   "execution_count": 3,
   "metadata": {},
   "outputs": [],
   "source": [
    "obergefell = 'https://www.law.cornell.edu/supremecourt/text/14-556'\n",
    "kennedy_opinion = 'https://www.law.cornell.edu/supremecourt/text/14-556#writing-14-556_OPINION_3'\n",
    "roberts_dissent = 'https://www.law.cornell.edu/supremecourt/text/14-556#writing-14-556_DISSENT_4'\n",
    "scalia_dissent = 'https://www.law.cornell.edu/supremecourt/text/14-556#writing-14-556_DISSENT_5'\n",
    "thomas_dissent = 'https://www.law.cornell.edu/supremecourt/text/14-556#writing-14-556_DISSENT_6'\n",
    "alito_dissent = 'https://www.law.cornell.edu/supremecourt/text/14-556#writing-14-556_DISSENT_7'"
   ]
  },
  {
   "cell_type": "code",
   "execution_count": 26,
   "metadata": {},
   "outputs": [],
   "source": [
    "def make_soup(url):\n",
    "    page = requests.get(url)\n",
    "    soup = BeautifulSoup(page.content, 'html.parser')\n",
    "    return soup\n",
    "\n",
    "def get_text(soup):\n",
    "    text = soup.find(class_='bodytext')        \n",
    "    text = [t.text for t in text]\n",
    "    return text\n",
    "\n",
    "def get_dissent(soup):\n",
    "    dissent = soup.find(class_='dissent').find_all('p')\n",
    "    dissent = [t.text for t in dissent]\n",
    "    return dissent\n",
    "\n",
    "def clean(text):\n",
    "    # remove unicode characters\n",
    "    text = [txt.encode(\"ascii\", \"ignore\").decode(\"ascii\") for txt in text]\n",
    "    # lower each string\n",
    "    text = [txt.lower() for txt in text]\n",
    "    # remove new line escape character\n",
    "    # text = [txt.replace('\\n', ' ') for txt in text]\n",
    "    # remove punctuation\n",
    "    text = [re.sub('[%s]' % re.escape(string.punctuation), ' ', txt)\n",
    "            for txt in text]\n",
    "    # remove digits\n",
    "    text = [re.sub('[%s]' % re.escape(string.digits), ' ', txt)\n",
    "            for txt in text]\n",
    "    # remove empty strings\n",
    "    # text = [txt.strip() for txt in text if txt]\n",
    "    return text"
   ]
  },
  {
   "cell_type": "code",
   "execution_count": 33,
   "metadata": {},
   "outputs": [],
   "source": [
    "sent_tokens = [clean(sent_tokenize(sent)) for sent in get_dissent(make_soup(scalia_dissent))[20:]]\n",
    "tokens = [word_tokenize(sent) for array in sent_tokens for sent in array]"
   ]
  },
  {
   "cell_type": "code",
   "execution_count": 35,
   "metadata": {},
   "outputs": [],
   "source": [
    "stopped_scalia = [word for array in tokens for word in array if word not in stop_words]"
   ]
  },
  {
   "cell_type": "code",
   "execution_count": 36,
   "metadata": {},
   "outputs": [
    {
     "name": "stdout",
     "output_type": "stream",
     "text": [
      "(4689, 10)\n",
      "(4689, 10)\n",
      "(4689, 10)\n"
     ]
    },
    {
     "name": "stderr",
     "output_type": "stream",
     "text": [
      "/usr/local/lib/python3.9/site-packages/sklearn/decomposition/_nmf.py:289: FutureWarning: The 'init' value, when 'init=None' and n_components is less than n_samples and n_features, will be changed from 'nndsvd' to 'nndsvda' in 1.1 (renaming of 0.26).\n",
      "  warnings.warn(\n"
     ]
    }
   ],
   "source": [
    "NUM_TOPICS = 10\n",
    "\n",
    "vectorizer = CountVectorizer(min_df=5, max_df=0.9, stop_words='english', lowercase=True)\n",
    "data_vectorized = vectorizer.fit_transform(stopped_scalia)\n",
    "\n",
    "lda_model = LatentDirichletAllocation(n_components=NUM_TOPICS, max_iter=10, learning_method='online')\n",
    "lda_Z = lda_model.fit_transform(data_vectorized)\n",
    "print(lda_Z.shape)\n",
    "\n",
    "nmf_model = NMF(n_components=NUM_TOPICS)\n",
    "nmf_Z = nmf_model.fit_transform(data_vectorized)\n",
    "print(nmf_Z.shape)\n",
    "\n",
    "lsi_model = TruncatedSVD(n_components=NUM_TOPICS)\n",
    "lsi_Z = lsi_model.fit_transform(data_vectorized)\n",
    "print(lsi_Z.shape)\n",
    "\n",
    "def print_topics(model, vectorizer, top_n=10):\n",
    "    for idx, topic in enumerate(model.components_):\n",
    "        print(\"Topic %d:\" % (idx))\n",
    "        print([(vectorizer.get_feature_names()[i], topic[i])\n",
    "                        for i in topic.argsort()[:-top_n - 1:-1]])"
   ]
  },
  {
   "cell_type": "code",
   "execution_count": 37,
   "metadata": {},
   "outputs": [
    {
     "name": "stdout",
     "output_type": "stream",
     "text": [
      "LDA Model:\n",
      "Topic 0:\n",
      "[('court', 54.324251624883516), ('laws', 30.394038553259158), ('constitutional', 21.330032850073646), ('new', 19.727213371528496), ('institution', 11.936615512132965), ('judicial', 11.690485697332942), ('individual', 9.078031519776557), ('loving', 6.354935099903142), ('precedent', 5.66747016090418), ('certainly', 5.094660835809555)]\n",
      "Topic 1:\n",
      "[('ante', 40.276036164347396), ('law', 31.04951269374435), ('states', 28.107782378038912), ('fundamental', 19.782473775977508), ('union', 12.695309816952863), ('id', 12.285219453853045), ('government', 7.944837098491277), ('freedom', 6.303272745424996), ('result', 6.07452411706732), ('requires', 5.913131131853405)]\n",
      "Topic 2:\n",
      "[('majority', 47.96670845027344), ('majoritys', 21.99216998513673), ('lochner', 14.588885625360906), ('question', 13.887665131381763), ('position', 9.906243568990126), ('public', 8.700163240406498), ('time', 8.652060720956518), ('privacy', 8.22127370817266), ('implied', 7.763856613200818), ('years', 7.325870476156766)]\n",
      "Topic 3:\n",
      "[('liberty', 15.777241561157798), ('judges', 13.114608362986443), ('protection', 12.231585141580494), ('approach', 11.917987913071887), ('particular', 10.426501405478604), ('change', 10.225065558673748), ('united', 9.970818503001182), ('debate', 9.784889729449814), ('today', 9.309882802816322), ('sexual', 8.395271057542999)]\n",
      "Topic 4:\n",
      "[('history', 23.882082933192997), ('rights', 22.034632938573722), ('state', 16.75592481576209), ('clause', 16.194029280123093), ('marry', 15.181521589879958), ('legal', 14.237941352503508), ('children', 10.891052401730214), ('understanding', 9.306795011218517), ('democratic', 8.366066426384958), ('married', 7.533672771964593)]\n",
      "Topic 5:\n",
      "[('right', 49.62770047344122), ('people', 34.974270551686615), ('process', 30.968886012606777), ('definition', 17.651402450122834), ('issue', 17.012344516309717), ('woman', 16.950518589422096), ('society', 11.796300708629229), ('enact', 4.831440899304992), ('op', 4.623236331051853), ('struck', 4.597499791418804)]\n",
      "Topic 6:\n",
      "[('couples', 25.20776244043653), ('petitioners', 24.067113599225767), ('cases', 23.403485787146458), ('courts', 17.1932356653955), ('way', 9.650155217221949), ('based', 8.553199424376594), ('meaning', 8.371649466259488), ('status', 6.373227239867873), ('traditional', 5.856932742279663), ('make', 5.764418375465666)]\n",
      "Topic 7:\n",
      "[('decision', 14.707026526189402), ('dissenting', 11.947414028364488), ('tradition', 11.219857570480722), ('exercise', 10.91566794892515), ('religious', 10.476579636297464), ('celebrate', 10.31723513120864), ('precedents', 9.476725789719907), ('basis', 8.58529709072638), ('role', 8.371568117751359), ('questions', 8.206263433481046)]\n",
      "Topic 8:\n",
      "[('marriage', 111.78699611951504), ('constitution', 26.970931362622956), ('judgment', 11.336659452681584), ('policy', 8.441776896556094), ('power', 7.269602758133861), ('celebrate', 0.10067805332828296), ('civil', 0.10000153205271133), ('license', 0.10000148163832452), ('tr', 0.10000148079670455), ('include', 0.10000145725088674)]\n",
      "Topic 9:\n",
      "[('sex', 52.63661444581848), ('social', 18.03235540357767), ('opinion', 16.821718319552794), ('man', 16.103612324980094), ('equal', 12.312642930813235), ('justice', 8.243407185627412), ('voters', 7.0372231489680885), ('views', 6.205726870761782), ('restrictions', 5.680843526110309), ('plural', 5.522583326361183)]\n",
      "====================\n"
     ]
    },
    {
     "name": "stderr",
     "output_type": "stream",
     "text": [
      "/usr/local/lib/python3.9/site-packages/sklearn/utils/deprecation.py:87: FutureWarning: Function get_feature_names is deprecated; get_feature_names is deprecated in 1.0 and will be removed in 1.2. Please use get_feature_names_out instead.\n",
      "  warnings.warn(msg, category=FutureWarning)\n"
     ]
    }
   ],
   "source": [
    "print(\"LDA Model:\")\n",
    "print_topics(lda_model, vectorizer)\n",
    "print(\"=\" * 20)"
   ]
  },
  {
   "cell_type": "code",
   "execution_count": 38,
   "metadata": {},
   "outputs": [
    {
     "name": "stdout",
     "output_type": "stream",
     "text": [
      "SVD Model:\n",
      "Topic 0:\n",
      "[('marriage', 0.9999999994760768), ('history', 1.9076204238350446e-05), ('definition', 8.84169778706528e-06), ('state', 7.4044360722517765e-06), ('constitutional', 3.98935433012742e-06), ('majoritys', 3.5345568453375876e-06), ('rights', 3.1966367632376974e-06), ('couples', 2.988827140370863e-06), ('laws', 2.919726986100139e-06), ('lochner', 2.891289664311642e-06)]\n",
      "Topic 1:\n",
      "[('court', 0.9999722939885705), ('rights', 0.003827752176175454), ('petitioners', 0.002360658729013807), ('woman', 0.0015551325134436301), ('marry', 0.0011974920565742551), ('people', 0.001072731613739752), ('definition', 0.0009944189987220026), ('liberty', 0.0007987639035384114), ('ante', 0.0005783144416056934), ('man', 0.0004380091164168111)]\n",
      "Topic 2:\n",
      "[('sex', 0.9999748678602072), ('rights', 0.0014364366210240932), ('opinion', 0.0011769347440139834), ('people', 0.0009587357291246067), ('court', 0.0006406383436901388), ('courts', 0.0005828637889557452), ('issue', 0.0005530825045000208), ('process', 0.00045238489834059946), ('man', 0.00044992863076698356), ('question', 0.0004354867895527693)]\n",
      "Topic 3:\n",
      "[('right', 0.9999930808883316), ('fundamental', 0.0013279905347348304), ('social', 0.0011112336553619378), ('sex', 0.0006602011255263613), ('constitution', 0.0005979429289685337), ('cases', 0.0005648361200280085), ('issue', 0.00047645451649719), ('law', 0.00045874084138866985), ('liberty', 0.00045422060476783246), ('decision', 0.0004232026928343753)]\n",
      "Topic 4:\n",
      "[('majority', 0.9999830492576687), ('woman', 0.0028626816871118875), ('rights', 0.00165841234048602), ('history', 0.0015372476424273267), ('opinion', 0.0010664575390843482), ('issue', 0.0007942261876489357), ('people', 0.0006371516059042275), ('liberty', 0.0006278567911131991), ('clause', 0.0005833753597331107), ('majoritys', 0.0005412043916897685)]\n",
      "Topic 5:\n",
      "[('ante', 0.99965264812773), ('couples', 0.010898503287301017), ('law', 0.009324759927678901), ('majoritys', 0.006581519637729335), ('history', 0.006528763624016857), ('constitutional', 0.005910651094273905), ('constitution', 0.005307711935472866), ('states', 0.004286263850159703), ('laws', 0.0031998895780634452), ('social', 0.003174849816315807)]\n",
      "Topic 6:\n",
      "[('people', 0.9928182868060059), ('law', 0.09507993210031111), ('couples', 0.034308603357660186), ('laws', 0.024697184696833015), ('states', 0.020735551970797822), ('history', 0.02063984920936855), ('constitution', 0.020329395317197296), ('definition', 0.017392779415238174), ('constitutional', 0.015305260482852513), ('cases', 0.009244778787608305)]\n",
      "Topic 7:\n",
      "[('law', 0.9847206524606479), ('rights', 0.0602309512232996), ('petitioners', 0.043768662644240196), ('woman', 0.02185487394998347), ('definition', 0.020133915776131696), ('process', 0.013265288140118327), ('marry', 0.007659037202715), ('clause', 0.006895404946634193), ('opinion', 0.0059382012883955225), ('liberty', 0.005017408741000977)]\n",
      "Topic 8:\n",
      "[('laws', 0.9942052805462395), ('law', 0.045942238154572726), ('process', 0.045391447067862814), ('fundamental', 0.016398445730869248), ('petitioners', 0.012318447001424064), ('rights', 0.010179532964517344), ('new', 0.008143987066156428), ('woman', 0.007332526384288313), ('opinion', 0.0070005003652367555), ('issue', 0.0047914670228867634)]\n",
      "Topic 9:\n",
      "[('process', 0.9302147872256498), ('states', 0.3596339398958136), ('history', 0.03752071056894366), ('petitioners', 0.023498816550801344), ('opinion', 0.01984109411687526), ('marry', 0.01430092094732573), ('liberty', 0.010938166511024002), ('law', 0.009310843708721001), ('cases', 0.008745937976342774), ('definition', 0.006235098074806096)]\n",
      "====================\n"
     ]
    }
   ],
   "source": [
    "print(\"SVD Model:\")\n",
    "print_topics(lsi_model, vectorizer)\n",
    "print(\"=\" * 20)"
   ]
  },
  {
   "cell_type": "code",
   "execution_count": null,
   "metadata": {},
   "outputs": [],
   "source": []
  }
 ],
 "metadata": {
  "kernelspec": {
   "display_name": "Python 3.9.13 64-bit",
   "language": "python",
   "name": "python3"
  },
  "language_info": {
   "codemirror_mode": {
    "name": "ipython",
    "version": 3
   },
   "file_extension": ".py",
   "mimetype": "text/x-python",
   "name": "python",
   "nbconvert_exporter": "python",
   "pygments_lexer": "ipython3",
   "version": "3.9.13"
  },
  "orig_nbformat": 4,
  "vscode": {
   "interpreter": {
    "hash": "aee8b7b246df8f9039afb4144a1f6fd8d2ca17a180786b69acc140d282b71a49"
   }
  }
 },
 "nbformat": 4,
 "nbformat_minor": 2
}
