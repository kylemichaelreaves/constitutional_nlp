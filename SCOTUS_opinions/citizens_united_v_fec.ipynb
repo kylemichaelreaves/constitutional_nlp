{
 "cells": [
  {
   "cell_type": "code",
   "execution_count": 2,
   "metadata": {},
   "outputs": [
    {
     "name": "stderr",
     "output_type": "stream",
     "text": [
      "/usr/local/lib/python3.9/site-packages/scipy/__init__.py:146: UserWarning: A NumPy version >=1.16.5 and <1.23.0 is required for this version of SciPy (detected version 1.23.1\n",
      "  warnings.warn(f\"A NumPy version >={np_minversion} and <{np_maxversion}\"\n"
     ]
    }
   ],
   "source": [
    "import re\n",
    "from nltk import *\n",
    "from bs4 import BeautifulSoup\n",
    "import string\n",
    "import requests\n",
    "from collections import Counter\n",
    "from sklearn.feature_extraction.text import CountVectorizer, TfidfVectorizer, TfidfTransformer\n",
    "from sklearn.decomposition import NMF, LatentDirichletAllocation, TruncatedSVD\n",
    "import pandas as pd\n",
    "from nltk.stem import WordNetLemmatizer\n",
    "from nltk.corpus import stopwords\n",
    "from nltk.cluster.util import cosine_distance\n",
    "from nltk import RegexpParser, Tree\n",
    "from nltk.util import ngrams\n",
    "\n",
    "stop_words = set(stopwords.words('english'))\n",
    "wnl = WordNetLemmatizer()"
   ]
  },
  {
   "cell_type": "code",
   "execution_count": 9,
   "metadata": {},
   "outputs": [],
   "source": [
    "kennedy_opinion = 'https://www.law.cornell.edu/supct/html/08-205.ZO.html'\n",
    "roberts_concurrence = 'https://www.law.cornell.edu/supct/html/08-205.ZC.html'\n",
    "scalia_concurrence = 'https://www.law.cornell.edu/supct/html/08-205.ZC1.html'\n",
    "stevens_cdinpart = 'https://www.law.cornell.edu/supct/html/08-205.ZX.html'\n",
    "thomas_cdinpart = 'https://www.law.cornell.edu/supct/html/08-205.ZX1.html'\n",
    "\n",
    "def make_soup(url):\n",
    "    r = requests.get(url).text\n",
    "    soup = BeautifulSoup(r, 'html.parser')\n",
    "    return soup\n",
    "\n",
    "\n",
    "def get_text(soup):\n",
    "    text = soup.find_all(class_='bodytext')\n",
    "    text = [t.text for t in text]\n",
    "    return text\n",
    "\n",
    "\n",
    "def clean(text):\n",
    "    # remove unicode characters\n",
    "    text = [txt.encode(\"ascii\", \"ignore\").decode(\"ascii\") for txt in text]\n",
    "    # lower each string\n",
    "    text = [txt.lower() for txt in text]\n",
    "    # remove new line escape character\n",
    "    text = [txt.replace('\\n', ' ') for txt in text]\n",
    "    # remove new line escape character\n",
    "    text = [txt.replace('\\t', ' ') for txt in text]\n",
    "    # remove punctuation\n",
    "    text = [re.sub('[%s]' % re.escape(string.punctuation), '', txt)\n",
    "            for txt in text]\n",
    "    # remove digits\n",
    "    text = [re.sub('[%s]' % re.escape(string.digits), ' ', txt)\n",
    "            for txt in text]\n",
    "    # remove empty strings\n",
    "    text = [txt.strip() for txt in text if txt]\n",
    "    return text\n"
   ]
  },
  {
   "cell_type": "code",
   "execution_count": 10,
   "metadata": {},
   "outputs": [
    {
     "data": {
      "text/plain": [
       "['i join the opinion of the court',\n",
       " 'i write separately to address            justice stevens           discussion of            original understandings                      post           at    opinion concurring in part and dissenting in part hereinafter referred to as the dissent  this section of the dissent purports to show that todays decision is not supported by the original understanding of the    first amendment   the dissent attempts this demonstration however in splendid isolation from the text of the    first amendment   it never shows why the freedom of speech that was the right of englishmen did not include the freedom to speak in association with other individuals including association in the corporate form  to be sure in      as now corporations could pursue only the objectives set forth in their charters but the dissent provides no evidence that their speech in the pursuit of those objectives could be censored',\n",
       " 'instead of taking this straightforward approach to determining the amendments meaning the dissent embarks on a detailed exploration of the framers views about the role of corporations in society             post           at     the framers didnt like corporations the dissent concludes and therefore it follows as night the day that corporations had no rights of free speech  of course the framers personal affection or disaffection for corporations is relevant only insofar as it can be thought to be reflected in the understood meaning of the text they enactednot as the dissent suggests as a freestanding substitute for that text  but the dissents distortion of proper analysis is even worse than that  though faced with a constitutional text that makes no distinction between types of speakers the dissent feels no necessity to provide even an isolated statement from the founding era to the effect that corporations are            not           covered but places the burden on petitioners to bring forward statements showing that they            are           there is not a scintilla of evidence to support the notion that anyone believed the    first amendment  would preclude regulatory distinctions based on the corporate form            post           at',\n",
       " 'despite the corporationhating quotations the dissent has dredged up it is far from clear that by the end of the   th century corporations were despised  if so how came there to be so many of them  the dissents statement that there were few business corporations during the eighteenth centuryonly a few hundred during all of the   th centuryis misleading             post           at    n    there were approximately     charters issued to business corporations in the united states by the end of the   th century                        see   jdavis essays in the earlier history of american corporations         reprint      hereinafter davis  this was a considerable extension of corporate enterprise in the field of business davis   and represented unprecedented growth            id           at      moreover what seems like a small number by todays standards surely does not indicate the relative importance of corporations when the nation was considerably smaller  as i have previously noted by the end of the eighteenth century the corporation was a familiar figure in american economic life             mcconnell           v            federal election commn                 u s                           scalia           j concurring in part concurring in judgment in part and dissenting in part quoting c cooke corporation trust and company         hereinafter cooke',\n",
       " 'even if we thought it proper to apply the dissents approach of excluding from    first amendment  coverage what the founders disliked and even if we agreed that the founders disliked foundingera corporations modern corporations might not qualify for exclusion  most of the founders resentment towards corporations was directed at the stategranted monopoly privileges that individually chartered corporations enjoyed                        modern corporations do not have such privileges and would probably have been favored by most of our enterprising foundersexcluding perhaps thomas jefferson and others favoring perpetuation of an agrarian society  moreover if the founders specific intent with respect to corporations is what matters why does the dissent ignore the founders views about other legal entities that have more in common with modern business corporations than the foundingera corporations  at the time of the founding religious educational and literary corporations were incorporated under general incorporation statutes much as business corporations are today                        see davis      r seavoy origins of the american business corporation          p        cooke     there were also small unincorporated business associations which some have argued were the  true progenitors  of todays business corporations  friedman     quoting s livermore early american land companies their influence on corporate development          see also davis     were all of these silently excluded from the protections of the    first amendment',\n",
       " 'the lack of a textual exception for speech by corporations cannot be explained on the ground that such organizations did not exist or did not speak  to the contrary colleges towns and cities religious institutions and guilds had long been organized as corporations at common law and under the kings charter see   w blackstone commentaries on the laws of england               s kyd a treatise on the law of corporations             reprinted      and as i have discussed the practice of incorporation only expanded in the united states  both corporations and voluntary associations actively petitioned the government and expressed their views in newspapers and pamphlets  for example an antislavery quaker corporation petitioned the first congress distributed pamphlets and communicated through the press in       w digiacomantonio for the gratification of a volunteering society antislavery and pressure group politics in the first federal congress    j early republic           the new york sons of liberty sent a circular to colonies farther south in       p maier from resistance to revolution            and the society for the relief and instruction of poor germans circulated a biweekly paper from      to       adams the colonial germanlanguage press and the american revolution in the press  the american revolution            b bailyn  j hench eds       the dissent offers no evidencenone whateverthat the    first amendment s unqualified text was originally understood to exclude such associational speech from its protection',\n",
       " 'historical evidence relating to the textually similar clause the freedom of    the press also provides no support for the proposition that the    first amendment  excludes conduct of artificial legal entities from the scope of its protection  the freedom of the press was widely understood to protect the publishing activities of individual editors and printers  see            mcintyre           v            ohio elections commn                 u s                            thomas j           concurring in judgment see also            mcconnell               u s                      at        opinion of            scalia j            but these individuals often acted through newspapers which much like corporations had their own names outlived the individuals who had founded them could be bought and sold were sometimes owned by more than one person and were operated for profit  see generally f mott american journalism a history of newspapers in the united states through     years           j smith freedoms fetters       their activities were not stripped of    first amendment  protection simply because they were carried out under the banner of an artificial legal entity  and the notion which follows from the dissents view that modern newspapers since they are incorporated have freespeech rights only at the sufferance of congress boggles the mind',\n",
       " 'in passing the dissent also claims that the courts conception of corruption is unhistorical  the framers would have been appalled it says by the evidence of corruption in the congressional findings supporting the bipartisan campaign reform act of                  post           at     for this proposition the dissent cites a law review article arguing that corruption was originally understood to include moral decay and even actions taken by citizens in pursuit of private rather than public ends  teachout the anticorruption principle    cornell l rev                   it is hard to see how this has anything to do with what sort of corruption can be combated by restrictions on political speech  moreover if speech can be prohibited because in the view of the government it leads to moral decay or does not serve public ends then there is no limit to the governments censorship power',\n",
       " 'the dissent says that when the framers constitutionalized the right to free speech in the    first amendment  it was the free speech of individual americans that they had in mind             post           at     that is no doubt true  all the provisions of the bill of rights set forth the rights of individual men and womennot for example of trees or polar bears  but the individual persons right to speak includes the right to speak            in association with other individual persons            surely the dissent does not believe that speech by the republican party or the democratic party can be censored because it is not the speech of an individual american  it is the speech of many individual americans who have associated in a common cause giving the leadership of the party the right to speak on their behalf  the association of individuals in a business corporation is no differentor at least it cannot be denied the right to speak on the simplistic ground that it is not an individual american',\n",
       " 'but to return to and summarize my principal point which is the conformity of todays opinion with the original meaning of the    first amendment   the amendment is written in terms of speech not speakers  its text offers no foothold for excluding any category of speaker from single individuals to partnerships of individuals to unincorporated associations of individuals to incorporated associations of individualsand the dissent offers no evidence about the original meaning of the text to support any such exclusion  we are therefore simply left with the question whether the speech at issue in this case is speech covered by the    first amendment   no one says otherwise  a documentary film critical of a potential presidential candidate is core political speech and its nature as such does not change simply because it was funded by a corporation  nor does the character of that funding produce any reduction whatever in the inherent worth of the speech and its capacity for informing the public            first nat bank of boston           v            bellotti                 u s                  indeed to exclude or impede corporate speech is to muzzle the principal agents of the modern free economy  we should celebrate rather than condemn the addition of this speech to the public debate']"
      ]
     },
     "execution_count": 10,
     "metadata": {},
     "output_type": "execute_result"
    }
   ],
   "source": [
    "clean(get_text(make_soup(scalia_concurrence)))"
   ]
  },
  {
   "cell_type": "code",
   "execution_count": null,
   "metadata": {},
   "outputs": [],
   "source": []
  }
 ],
 "metadata": {
  "kernelspec": {
   "display_name": "Python 3.9.13 64-bit",
   "language": "python",
   "name": "python3"
  },
  "language_info": {
   "codemirror_mode": {
    "name": "ipython",
    "version": 3
   },
   "file_extension": ".py",
   "mimetype": "text/x-python",
   "name": "python",
   "nbconvert_exporter": "python",
   "pygments_lexer": "ipython3",
   "version": "3.9.13"
  },
  "orig_nbformat": 4,
  "vscode": {
   "interpreter": {
    "hash": "aee8b7b246df8f9039afb4144a1f6fd8d2ca17a180786b69acc140d282b71a49"
   }
  }
 },
 "nbformat": 4,
 "nbformat_minor": 2
}
