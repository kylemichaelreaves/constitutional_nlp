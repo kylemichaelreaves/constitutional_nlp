{
 "cells": [
  {
   "cell_type": "code",
   "execution_count": 2,
   "metadata": {
    "pycharm": {
     "name": "#%%\n"
    }
   },
   "outputs": [],
   "source": [
    "# We can't assume that the body of these documents is consistent from historic cases to the more recent\n",
    "dred_scott = 'https://www.law.cornell.edu/supremecourt/text/60/393'\n",
    "heller = 'https://www.law.cornell.edu/supremecourt/text/07-290#writing-ZS'\n",
    "# Moreover, we can't assume that the dissent is always its accurately tagged class  \"dissent\"\n",
    "# For example, Scalia wrote Lawrence's dissent in which Roberts and Thomas joined…\n",
    "# …Cornell's website makes it seem like Scalia wrote an opinion\n",
    "lawrence = 'https://www.law.cornell.edu/supremecourt/text/02-102#writing-ZS'\n",
    "dobbs = 'https://www.law.cornell.edu/supremecourt/text/19-1392'\n",
    "nra_v_bruen = 'https://www.law.cornell.edu/supremecourt/text/20-843'\n",
    "plessy = 'https://www.law.cornell.edu/supremecourt/text/163/537'\n",
    "citizens_united = 'https://www.law.cornell.edu/supremecourt/text/08-205#writing-ZS'\n",
    "west_virginia_v_epa = 'https://www.law.cornell.edu/supremecourt/text/20-1530'\n",
    "shelby = 'https://www.law.cornell.edu/supremecourt/text/12-96'\n",
    "roe = 'https://www.law.cornell.edu/supremecourt/text/410/113'\n",
    "casey = 'https://www.law.cornell.edu/supremecourt/text/505/833'\n",
    "griswold = 'https://www.law.cornell.edu/supremecourt/text/381/479'\n",
    "lochner = 'https://www.law.cornell.edu/supremecourt/text/198/45'\n",
    "korematsu = 'https://www.law.cornell.edu/supremecourt/text/323/214'\n",
    "chevron = 'https://www.law.cornell.edu/supremecourt/text/467/837'\n",
    "brnovich = 'https://www.law.cornell.edu/supremecourt/text/19-1257'\n",
    "janus = 'https://www.law.cornell.edu/supremecourt/text/16-1466'"
   ]
  }
 ],
 "metadata": {
  "kernelspec": {
   "display_name": "Python 3.9.13 64-bit",
   "language": "python",
   "name": "python3"
  },
  "language_info": {
   "codemirror_mode": {
    "name": "ipython",
    "version": 3
   },
   "file_extension": ".py",
   "mimetype": "text/x-python",
   "name": "python",
   "nbconvert_exporter": "python",
   "pygments_lexer": "ipython3",
   "version": "3.9.13"
  },
  "orig_nbformat": 4,
  "vscode": {
   "interpreter": {
    "hash": "aee8b7b246df8f9039afb4144a1f6fd8d2ca17a180786b69acc140d282b71a49"
   }
  }
 },
 "nbformat": 4,
 "nbformat_minor": 2
}
