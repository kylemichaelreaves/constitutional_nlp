{
 "cells": [
  {
   "cell_type": "code",
   "metadata": {
    "jupyter": {
     "is_executing": true
    }
   },
   "source": [
    "import re\n",
    "from bs4 import BeautifulSoup\n",
    "import string\n",
    "import requests\n",
    "# from nltk import *"
   ],
   "outputs": [],
   "execution_count": null
  },
  {
   "cell_type": "code",
   "execution_count": 5,
   "metadata": {},
   "outputs": [],
   "source": [
    "heller = 'https://www.law.cornell.edu/supremecourt/text/07-290#writing-ZS'\n",
    "r = requests.get(heller).text\n",
    "soup = BeautifulSoup(r, 'html.parser')"
   ]
  },
  {
   "cell_type": "code",
   "execution_count": 6,
   "metadata": {},
   "outputs": [],
   "source": [
    "\n",
    "def get_text(url):\n",
    "    text = soup.find(class_='bodytext')\n",
    "    text = [t.text for t in text]\n",
    "    return text\n",
    "\n",
    "def get_opinion(url):\n",
    "    text = soup.find(class_='opinion')\n",
    "    text = [t.text for t in text]\n",
    "    return text\n",
    "\n",
    "def get_dissent(url):\n",
    "    text = soup.find(class_='dissent')\n",
    "    text = [t.text for t in text]\n",
    "    return text\n",
    "\n",
    "def clean(text):\n",
    "    text = [txt.encode(\"ascii\", \"ignore\").decode(\"ascii\") for txt in text]\n",
    "    # remove unicode characters\n",
    "    # lower each string\n",
    "    text = [txt.lower() for txt in text]\n",
    "    # remove new line escape character\n",
    "    text = [txt.replace('\\n', '') for txt in text]\n",
    "    # remove punctuation\n",
    "    text = [re.sub('[%s]' % re.escape(string.punctuation), ' ', txt)\n",
    "            for txt in text]\n",
    "    # remove digits\n",
    "    text = [re.sub('[%s]' % re.escape(string.digits), ' ', txt)\n",
    "            for txt in text]\n",
    "\n",
    "    # remove empty strings\n",
    "    text = [txt.strip() for txt in text if txt]\n",
    "    return text\n"
   ]
  },
  {
   "cell_type": "code",
   "execution_count": 11,
   "metadata": {},
   "outputs": [],
   "source": [
    "scalia_opinion = clean(get_opinion(heller))[6:-1]"
   ]
  },
  {
   "cell_type": "code",
   "execution_count": null,
   "metadata": {},
   "outputs": [],
   "source": []
  }
 ],
 "metadata": {
  "kernelspec": {
   "display_name": "Python 3.9.13 64-bit",
   "language": "python",
   "name": "python3"
  },
  "language_info": {
   "codemirror_mode": {
    "name": "ipython",
    "version": 3
   },
   "file_extension": ".py",
   "mimetype": "text/x-python",
   "name": "python",
   "nbconvert_exporter": "python",
   "pygments_lexer": "ipython3",
   "version": "3.9.13"
  },
  "orig_nbformat": 4,
  "vscode": {
   "interpreter": {
    "hash": "aee8b7b246df8f9039afb4144a1f6fd8d2ca17a180786b69acc140d282b71a49"
   }
  }
 },
 "nbformat": 4,
 "nbformat_minor": 2
}
