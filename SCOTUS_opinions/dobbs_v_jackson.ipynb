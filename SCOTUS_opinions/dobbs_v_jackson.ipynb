{
 "cells": [
  {
   "cell_type": "code",
   "execution_count": 18,
   "metadata": {},
   "outputs": [],
   "source": [
    "import re\n",
    "from nltk import *\n",
    "from bs4 import BeautifulSoup\n",
    "import string\n",
    "import requests\n",
    "from collections import Counter\n",
    "from sklearn.feature_extraction.text import CountVectorizer, TfidfVectorizer, TfidfTransformer\n",
    "from sklearn.decomposition import NMF, LatentDirichletAllocation, TruncatedSVD\n",
    "import pandas as pd\n",
    "from nltk.stem import WordNetLemmatizer\n",
    "from nltk.corpus import stopwords\n",
    "from nltk.cluster.util import cosine_distance\n",
    "from nltk import RegexpParser, Tree\n",
    "from nltk.util import ngrams\n",
    "\n",
    "stop_words = set(stopwords.words('english'))\n",
    "wnl = WordNetLemmatizer()"
   ]
  },
  {
   "cell_type": "code",
   "execution_count": 2,
   "metadata": {},
   "outputs": [],
   "source": [
    "dobbs = 'https://www.law.cornell.edu/supremecourt/text/19-1392'\n",
    "r = requests.get(dobbs).text\n",
    "soup = BeautifulSoup(r, 'html.parser')"
   ]
  },
  {
   "cell_type": "code",
   "execution_count": 3,
   "metadata": {},
   "outputs": [],
   "source": [
    "# facts\n",
    "def get_text():\n",
    "    text = soup.find(class_='bodytext')        \n",
    "    text = [t.text for t in text]\n",
    "    return text\n",
    "\n",
    "def get_opinion():\n",
    "    text = soup.find(class_='opinion')        \n",
    "    text = [t.text for t in text] \n",
    "    return text\n",
    "\n",
    "def get_dissent():\n",
    "    text = soup.find(class_='dissent')        \n",
    "    text = [t.text for t in text]\n",
    "    return text\n",
    "\n",
    "def clean(text):\n",
    "    # remove unicode characters\n",
    "    text = [txt.encode(\"ascii\", \"ignore\").decode(\"ascii\") for txt in text]\n",
    "    # lowercase each string\n",
    "    text = [txt.lower() for txt in text]\n",
    "    # remove new line escape character\n",
    "    text = [txt.replace('\\n', ' ') for txt in text]\n",
    "    # remove punctuation\n",
    "    text = [re.sub('[%s]' % re.escape(string.punctuation), ' ', txt) for txt in text]\n",
    "    # remove digits\n",
    "    text = [re.sub('[%s]' % re.escape(string.digits), ' ', txt) for txt in text]\n",
    "    # remove empty strings\n",
    "    text = [txt.strip() for txt in text if txt]\n",
    "    return text"
   ]
  },
  {
   "cell_type": "code",
   "execution_count": 31,
   "metadata": {},
   "outputs": [],
   "source": [
    "dobbs_opinion = clean(sent_tokenize(get_opinion()[6]))[5:-1]\n",
    "dobbs_tokenized = [word_tokenize(sent) for sent in dobbs_opinion]\n",
    "dobbs_flattened = [word for sent in dobbs_tokenized for word in sent]\n",
    "dobbs_stopped = [word for word in dobbs_flattened if word not in stop_words]"
   ]
  },
  {
   "cell_type": "code",
   "execution_count": 27,
   "metadata": {},
   "outputs": [
    {
     "name": "stdout",
     "output_type": "stream",
     "text": [
      "(14779, 10)\n",
      "(14779, 10)\n",
      "(14779, 10)\n"
     ]
    },
    {
     "name": "stderr",
     "output_type": "stream",
     "text": [
      "/usr/local/lib/python3.9/site-packages/sklearn/decomposition/_nmf.py:289: FutureWarning: The 'init' value, when 'init=None' and n_components is less than n_samples and n_features, will be changed from 'nndsvd' to 'nndsvda' in 1.1 (renaming of 0.26).\n",
      "  warnings.warn(\n"
     ]
    }
   ],
   "source": [
    "NUM_TOPICS = 10\n",
    "\n",
    "vectorizer = CountVectorizer(min_df=5, max_df=0.9, stop_words='english', lowercase=True)\n",
    "data_vectorized = vectorizer.fit_transform(dobbs_stopped)\n",
    "\n",
    "lda_model = LatentDirichletAllocation(n_components=NUM_TOPICS, max_iter=10, learning_method='online')\n",
    "lda_Z = lda_model.fit_transform(data_vectorized)\n",
    "print(lda_Z.shape)\n",
    "\n",
    "nmf_model = NMF(n_components=NUM_TOPICS)\n",
    "nmf_Z = nmf_model.fit_transform(data_vectorized)\n",
    "print(nmf_Z.shape)\n",
    "\n",
    "lsi_model = TruncatedSVD(n_components=NUM_TOPICS)\n",
    "lsi_Z = lsi_model.fit_transform(data_vectorized)\n",
    "print(lsi_Z.shape)\n",
    "\n",
    "def print_topics(model, vectorizer, top_n=10):\n",
    "    for idx, topic in enumerate(model.components_):\n",
    "        print(\"Topic %d:\" % (idx))\n",
    "        print([(vectorizer.get_feature_names()[i], topic[i])\n",
    "                        for i in topic.argsort()[:-top_n - 1:-1]])"
   ]
  },
  {
   "cell_type": "code",
   "execution_count": 28,
   "metadata": {},
   "outputs": [
    {
     "name": "stdout",
     "output_type": "stream",
     "text": [
      "LDA Model:\n",
      "Topic 0:\n",
      "[('abortion', 221.21534938343726), ('person', 124.9613340515249), ('opinion', 61.862694646646524), ('history', 30.677747482571423), ('concurrence', 23.83542468534604), ('advise', 23.752995564683054), ('taken', 22.005343271734013), ('century', 19.269145277329052), ('noxious', 17.857179446764913), ('labor', 14.632067226418005)]\n",
      "Topic 1:\n",
      "[('roe', 117.01734114172912), ('court', 113.3207740496828), ('life', 111.56394961455166), ('sec', 99.08455327773302), ('necessary', 81.81930684548087), ('procure', 76.28308790693872), ('constitutional', 54.73710306993624), ('dollars', 52.1095289664137), ('mother', 37.89701113306212), ('used', 20.330013105026666)]\n",
      "Topic 2:\n",
      "[('right', 118.47671125912382), ('casey', 101.72191903716215), ('medicine', 68.03138909573744), ('rule', 48.733279904168064), ('cases', 36.55320412360614), ('new', 36.51895727509398), ('decisis', 30.490099147004347), ('county', 20.05720659015158), ('whatsoever', 18.665519661905982), ('undue', 18.200551904461825)]\n",
      "Topic 3:\n",
      "[('years', 92.36348181327463), ('state', 76.61300822577309), ('instrument', 72.90353346773134), ('unless', 55.59496415273142), ('preserve', 51.80222286627103), ('quick', 29.246200924864954), ('imprisoned', 25.46826272337797), ('liberty', 24.550231846511572), ('prison', 22.030565834120917), ('amendment', 21.875892474516977)]\n",
      "Topic 4:\n",
      "[('child', 124.31304234474374), ('intent', 86.34371356657383), ('cause', 55.91870524310805), ('thereof', 45.457744901684976), ('guilty', 43.42989562630614), ('women', 33.883592533439206), ('dissenting', 24.42984641965994), ('brief', 24.175186541874897), ('authority', 21.760970414608604), ('convicted', 20.886666385726766)]\n",
      "Topic 5:\n",
      "[('shall', 372.75124082007426), ('woman', 221.73075166298307), ('law', 79.31027952279366), ('use', 76.40485881600526), ('pregnant', 65.03160804019713), ('imprisonment', 63.19779358155976), ('employ', 40.55787197206858), ('purpose', 38.57931820076339), ('post', 37.622587364882605), ('death', 27.067487431343825)]\n",
      "Topic 6:\n",
      "[('drug', 69.82387640226548), ('case', 45.2112714159053), ('fine', 43.57562383439924), ('constitution', 41.79491530595986), ('conviction', 33.89586684309707), ('destroy', 30.2715194484285), ('dissent', 28.73262525343802), ('issue', 25.668810864388266), ('deemed', 24.960297140746196), ('fourteenth', 24.091934120485746)]\n",
      "Topic 7:\n",
      "[('means', 80.83816517120881), ('viability', 57.25415978302685), ('decision', 45.30840341879357), ('year', 34.52681229935247), ('pregnancy', 33.94377315040206), ('decisions', 32.68275726806425), ('health', 28.651498753537492), ('important', 25.751797973295055), ('physician', 25.634175539765188), ('rights', 25.037845189314414)]\n",
      "Topic 8:\n",
      "[('miscarriage', 79.35000751530428), ('administer', 75.29136519412417), ('substance', 69.54480425369381), ('states', 68.77426504650242), ('exceeding', 68.45111203245469), ('punished', 53.66159056947032), ('term', 37.54605735313379), ('like', 36.680394870707396), ('courts', 32.898429735287806), ('laws', 30.38479517784161)]\n",
      "Topic 9:\n",
      "[('id', 48.575321564382456), ('thing', 36.33832583760652), ('roes', 34.922124459749746), ('thousand', 31.58866767581659), ('stare', 31.573150217597007), ('penitentiary', 29.891437097239557), ('th', 24.690027504920163), ('op', 23.316669588527724), ('produce', 21.633500709939945), ('prescribe', 18.510629856520715)]\n",
      "====================\n"
     ]
    },
    {
     "name": "stderr",
     "output_type": "stream",
     "text": [
      "/usr/local/lib/python3.9/site-packages/sklearn/utils/deprecation.py:87: FutureWarning: Function get_feature_names is deprecated; get_feature_names is deprecated in 1.0 and will be removed in 1.2. Please use get_feature_names_out instead.\n",
      "  warnings.warn(msg, category=FutureWarning)\n"
     ]
    }
   ],
   "source": [
    "print(\"LDA Model:\")\n",
    "print_topics(lda_model, vectorizer)\n",
    "print(\"=\" * 20)"
   ]
  },
  {
   "cell_type": "code",
   "execution_count": 29,
   "metadata": {},
   "outputs": [
    {
     "name": "stdout",
     "output_type": "stream",
     "text": [
      "SVD Model:\n",
      "Topic 0:\n",
      "[('shall', 0.9999999888406649), ('drug', 3.7628949142916294e-05), ('means', 3.583215267586471e-05), ('necessary', 3.311077407780562e-05), ('viability', 3.0403845771024627e-05), ('substance', 1.786542315841523e-05), ('constitution', 1.7584913002723452e-05), ('state', 1.446727051597463e-05), ('states', 1.2360504624884966e-05), ('use', 1.1323836596714242e-05)]\n",
      "Topic 1:\n",
      "[('abortion', 0.9999998628745639), ('state', 0.00021685359472297018), ('use', 0.0001707489430371714), ('administer', 0.00014852603346277818), ('constitution', 0.00010889848637088378), ('procure', 0.00010021691863242949), ('constitutional', 7.86135182007264e-05), ('imprisonment', 6.200889381073607e-05), ('id', 3.766767642190911e-05), ('unless', 2.052906908812904e-05)]\n",
      "Topic 2:\n",
      "[('woman', 0.9999925896927576), ('use', 0.00155093989708715), ('drug', 0.0010234685789123153), ('means', 0.0010066343781128444), ('state', 0.0008717528978541957), ('exceeding', 0.0008211955398893836), ('constitutional', 0.0005956490031464564), ('instrument', 0.0003801814430739339), ('procure', 0.0003483926880211988), ('imprisonment', 0.0003208514492455587)]\n",
      "Topic 3:\n",
      "[('right', 0.9999384265144895), ('state', 0.0034886190155541687), ('administer', 0.0029684301843496998), ('procure', 0.0029136136407935517), ('constitutional', 0.002521741886776224), ('constitution', 0.0018343515801512776), ('id', 0.001317753333571305), ('use', 0.001065731224626811), ('imprisonment', 0.001055832286299298), ('viability', 0.000800760609297546)]\n",
      "Topic 4:\n",
      "[('roe', 0.9998619174171984), ('necessary', 0.008558004566283998), ('medicine', 0.0032977056755884742), ('state', 0.002116986985194915), ('procure', 0.0020248352418623986), ('court', 0.0018896760345269831), ('life', 0.0018606532006349135), ('right', 0.0015044922467324414), ('sec', 0.0013457909303449997), ('exceeding', 0.0005493052859650209)]\n",
      "Topic 5:\n",
      "[('court', 0.9998210889151321), ('intent', 0.00792530069844405), ('viability', 0.007393122755664655), ('constitutional', 0.005174906198780246), ('states', 0.004509226252101071), ('miscarriage', 0.004110252512043366), ('instrument', 0.0036372775403616343), ('casey', 0.0035087535212429953), ('imprisonment', 0.0034009555191772383), ('substance', 0.0027104362202140346)]\n",
      "Topic 6:\n",
      "[('casey', 0.9994523619697363), ('use', 0.01540380905974246), ('state', 0.01069297100577856), ('medicine', 0.007437420546039978), ('person', 0.007331636838644607), ('life', 0.005997886266546209), ('sec', 0.005402148910676674), ('exceeding', 0.005265812152841258), ('means', 0.004990334510471982), ('necessary', 0.003961026360311036)]\n",
      "Topic 7:\n",
      "[('life', 0.9972572184838209), ('child', 0.0486618058908862), ('miscarriage', 0.017351010299003357), ('intent', 0.016540402539198217), ('instrument', 0.009746690193780373), ('procure', 0.008833376890602547), ('opinion', 0.007519065778668133), ('drug', 0.006676105432744046), ('law', 0.006669210523073661), ('states', 0.006077955090608901)]\n",
      "Topic 8:\n",
      "[('child', 0.9966080117718769), ('person', 0.047578145556659374), ('exceeding', 0.014620326838936803), ('necessary', 0.014319653056249704), ('states', 0.014065818866598308), ('law', 0.011569916002765985), ('years', 0.007846743873548261), ('instrument', 0.007073346362307039), ('means', 0.00675783634441587), ('drug', 0.004758215830280887)]\n",
      "Topic 9:\n",
      "[('person', 0.9965029544256389), ('life', 0.033167025994539114), ('viability', 0.026456298052837134), ('constitutional', 0.018933553387188416), ('procure', 0.0153382204742344), ('intent', 0.013680373587277861), ('administer', 0.01193911373066612), ('imprisonment', 0.00892906448309191), ('miscarriage', 0.008669311956580682), ('medicine', 0.007778848180530071)]\n",
      "====================\n"
     ]
    }
   ],
   "source": [
    "print(\"SVD Model:\")\n",
    "print_topics(lsi_model, vectorizer)\n",
    "print(\"=\" * 20)"
   ]
  },
  {
   "cell_type": "code",
   "execution_count": 30,
   "metadata": {},
   "outputs": [
    {
     "name": "stdout",
     "output_type": "stream",
     "text": [
      "NMF Model:\n",
      "Topic 0:\n",
      "[('shall', 4.105155240147702), ('states', 5.68529993805981e-24), ('state', 5.73354712046732e-25), ('years', 3.8908305604070007e-25), ('sec', 1.3034838464440478e-25), ('intent', 2.9476902271215286e-26), ('opinion', 7.663819534216433e-27), ('necessary', 1.6185096670628994e-27), ('means', 1.1331413693262177e-27), ('constitutional', 3.675739860179234e-28)]\n",
      "Topic 1:\n",
      "[('abortion', 3.9522777407225744), ('sec', 5.1924481236106496e-24), ('opinion', 2.0939294376481085e-24), ('necessary', 8.497993902709109e-25), ('procure', 1.2247265034777872e-25), ('viability', 5.993227359959461e-26), ('use', 4.585438868836612e-26), ('instrument', 1.0822340195957719e-26), ('substance', 2.7861400111466812e-27), ('id', 4.8241264636227735e-28)]\n",
      "Topic 2:\n",
      "[('woman', 3.616170671592573), ('states', 1.2948006159391912e-14), ('law', 4.74652452017304e-15), ('years', 8.472667680909442e-16), ('intent', 5.523614853507444e-17), ('necessary', 3.2311723610612473e-18), ('miscarriage', 7.853444285155321e-19), ('procure', 5.178929246040153e-19), ('constitutional', 5.00989344686006e-19), ('viability', 2.1905657676948827e-19)]\n",
      "Topic 3:\n",
      "[('right', 3.445913901216687), ('law', 1.325293024160429e-11), ('states', 7.78381784905133e-12), ('years', 5.986447683111167e-13), ('intent', 6.236507983406458e-14), ('means', 9.59140411978087e-15), ('constitutional', 1.215456749739109e-15), ('miscarriage', 5.555445687364103e-16), ('medicine', 2.5665897557892166e-19), ('drug', 2.3956536910564125e-19)]\n",
      "Topic 4:\n",
      "[('roe', 3.4023227937961606), ('states', 1.1437241642613485e-10), ('years', 6.502197351579757e-12), ('intent', 5.660599848997046e-13), ('necessary', 2.7437638532391866e-14), ('constitutional', 5.265570772258018e-15), ('procure', 4.965092886637769e-15), ('miscarriage', 4.92580462032975e-15), ('viability', 1.54342371252435e-15), ('instrument', 4.858995950573342e-16)]\n",
      "Topic 5:\n",
      "[('court', 3.323312057561762), ('states', 4.46653437638671e-09), ('opinion', 4.0717901394625374e-11), ('years', 4.0302294879182917e-11), ('necessary', 6.725477703913112e-12), ('viability', 4.055061890688051e-13), ('procure', 3.926341553427305e-13), ('miscarriage', 2.5155501491132513e-13), ('instrument', 8.332260595925276e-14), ('exceeding', 6.947971624695389e-15)]\n",
      "Topic 6:\n",
      "[('casey', 3.245775771423392), ('states', 3.3733388103872096e-07), ('years', 1.54985327519306e-08), ('intent', 1.0126462600587355e-09), ('necessary', 8.262767468248915e-11), ('means', 4.536236080832627e-11), ('miscarriage', 1.3617976790945111e-11), ('procure', 7.810208712708374e-12), ('viability', 5.2206049006226176e-12), ('instrument', 1.6289949536152122e-12)]\n",
      "Topic 7:\n",
      "[('life', 3.1697549388939854), ('law', 8.655142299268781e-05), ('state', 5.694849226657534e-07), ('sec', 8.599301943696442e-08), ('opinion', 1.7510701495087182e-08), ('use', 4.6129623731166156e-10), ('constitutional', 1.7611959284663697e-10), ('exceeding', 6.089988542146765e-12), ('substance', 3.3054020740118124e-12), ('decision', 3.3718641096361223e-13)]\n",
      "Topic 8:\n",
      "[('child', 3.1620176129132904), ('law', 0.00019566997822534864), ('states', 1.3979205740005266e-05), ('years', 8.824856579579489e-07), ('intent', 7.008756487917858e-08), ('constitutional', 2.532383451106937e-09), ('means', 2.245784329917866e-09), ('miscarriage', 3.988888522222796e-10), ('administer', 2.2888453570489315e-10), ('viability', 3.6027008500038566e-11)]\n",
      "Topic 9:\n",
      "[('person', 3.1537610827967506), ('states', 2.1818458673470875e-05), ('years', 5.680314407954648e-07), ('intent', 8.92445537302144e-08), ('means', 1.8492980762558404e-08), ('miscarriage', 1.2753704571553253e-09), ('constitutional', 5.243159695248651e-10), ('instrument', 1.5197326890680592e-10), ('viability', 1.3257000835133612e-10), ('use', 7.684738947345013e-11)]\n",
      "====================\n"
     ]
    }
   ],
   "source": [
    "print(\"NMF Model:\")\n",
    "print_topics(nmf_model, vectorizer)\n",
    "print(\"=\" * 20)"
   ]
  },
  {
   "cell_type": "code",
   "execution_count": null,
   "metadata": {},
   "outputs": [],
   "source": []
  }
 ],
 "metadata": {
  "kernelspec": {
   "display_name": "Python 3.9.13 64-bit",
   "language": "python",
   "name": "python3"
  },
  "language_info": {
   "codemirror_mode": {
    "name": "ipython",
    "version": 3
   },
   "file_extension": ".py",
   "mimetype": "text/x-python",
   "name": "python",
   "nbconvert_exporter": "python",
   "pygments_lexer": "ipython3",
   "version": "3.9.13"
  },
  "orig_nbformat": 4,
  "vscode": {
   "interpreter": {
    "hash": "aee8b7b246df8f9039afb4144a1f6fd8d2ca17a180786b69acc140d282b71a49"
   }
  }
 },
 "nbformat": 4,
 "nbformat_minor": 2
}
